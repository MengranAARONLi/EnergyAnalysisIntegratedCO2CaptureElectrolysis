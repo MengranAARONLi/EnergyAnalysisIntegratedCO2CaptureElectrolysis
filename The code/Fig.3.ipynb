{
 "cells": [
  {
   "cell_type": "markdown",
   "id": "925cc613-b991-4ca8-be23-61963c785935",
   "metadata": {},
   "source": [
    "# Figure 3"
   ]
  },
  {
   "cell_type": "code",
   "execution_count": 1,
   "id": "ad67f283",
   "metadata": {},
   "outputs": [],
   "source": [
    "import numpy as np\n",
    "import matplotlib.pyplot as plt\n",
    "import pandas as pd\n",
    "from matplotlib import rc, rcParams"
   ]
  },
  {
   "cell_type": "markdown",
   "id": "13d4d92b",
   "metadata": {},
   "source": [
    "Build the model and calculate"
   ]
  },
  {
   "cell_type": "code",
   "execution_count": 2,
   "id": "5da56dab",
   "metadata": {},
   "outputs": [
    {
     "name": "stdout",
     "output_type": "stream",
     "text": [
      "[16.5 16.5  0.   0.   0. ]\n"
     ]
    }
   ],
   "source": [
    "#VARIABLES\n",
    "Qcr= 231 + 23 #Carbonate regeneration kJ/molCO2\n",
    "Qpsa=(14.5 + 36.4)/2 # Pressure swing absorption kJ/molCO2, the energy is in between 14.5-36.4 kJ/molCO2. \n",
    "Qar=179 # Amine regeneration considering heat integration in the capture, kJ/molCO2, the energy is at between 88 - 203 kJ/molCO2\n",
    "Qcompression = (14+19)/2 #CO2 compression kJ/molCO2, the energy is in between 14.0 - 19.0 kJ/molCO2 \n",
    "\n",
    "Xout=0.3 #CO2 loading the capture media after CO2 conversion or after amine regeneration, molCO2/molamine\n",
    "Xin=0.5 #CO2 loading in the CO2-rich amine solution\n",
    "\n",
    "x=0.5 #Assumed CO2 single-pass conversion rate of the gas-fed electrolyzer\n",
    "xx=0.5 #Assumed CO2 single-pass conversion rate for the gas-fed elecrolyzer with no carbonate formation. \n",
    "#X=np.arange(0, 0.1, 0.1)\n",
    "FE=0.9  #State-of-the-art gas-fed electrolyzer having a FE of CO at 90% at 100 mA cm-2\n",
    "\n",
    "E=3 #Overall cell voltage for the gas-fed electrolyzer\n",
    "\n",
    "X=[0.3, 0.3, 0.3] # CO2 loading of the amine effluent \n",
    "#from the integrated electrolyzers [optimal, baseline, pessimistic] scenarios\n",
    "\n",
    "Ecomb=[3, 4, 5] # Overall cell voltages for the integrated electrolyzers\n",
    "\n",
    "FEcomb=[0.9,.7, 0.4] #FE CO for the integrated electrolyzers.\n",
    "\n",
    "# CONSTANTS\n",
    "z=2 # number of charge transfered to produce one CO molecule\n",
    "F=96485 # Faraday constant, sA/mol\n",
    "\n",
    "#ENERGY COST EQUATION\n",
    "\n",
    "#Sequential energy\n",
    "Qsep=Qar+Qcr+Qcompression + np.dot(Qpsa, 2*(1/x-1))+E*z*F/1000/FE #baseline scenario with CO2 loss to bi-carbonates\n",
    "Qsepnoc=Qar+Qcompression+np.dot(Qpsa,(1/xx-1))+E*z*F/1000/FE #optimal scenario with no CO2 loss to bi-carbonates\n",
    "\n",
    "#Amine regeneration energy cost\n",
    "Qaminer = Qar #amine regeneration, kJ/molCO2\n",
    "\n",
    "#PSA energy cost for sequential route\n",
    "Qpsasep=np.dot(Qpsa, 2*(1/x-1)) #PSA energy cost for the baseline sequential route \n",
    "Qpsasepnoc = np.dot(Qpsa,(1/xx-1)) #PSA energy cost for the optimal sequential route\n",
    "\n",
    "#Electrolyzer energy cost\n",
    "Qes = E*z*F/FE/1000\n",
    "\n",
    "#Molar ratio of CO2 converted to CO using a separation&electrolysis process\n",
    "r=np.divide(np.subtract(X,Xout),(Xin-Xout))\n",
    "#Molar ratio of CO2 converted to CO in the integrated electrolyzer. \n",
    "rc=np.divide(np.subtract(Xin,X),(Xin-Xout))\n",
    "\n",
    "#Energy cost of the integrated electrolyzer\n",
    "Qec = rc*np.dot(Ecomb, z*F)/np.dot(FEcomb,1000)\n",
    "\n",
    "#Qarcomb=np.dot(Qsep, r)\n",
    "#Energy cost of each unit operation in the saration&electrolysis process in the integrated route\n",
    "Qaminercomb=np.dot(Qaminer,r) #amine regeneration\n",
    "Qpsacomb = np.dot(Qpsasep,r) #PSA product separation for baseline gas-fed electrolyzer\n",
    "Qpsacombnoc=np.dot(Qpsasepnoc,r) #PSA product separation optimal gas-fed electrolyzer\n",
    "Qcrcomb = np.dot(Qcr, r) #Carbonate regeneration \n",
    "Qescomb = np.dot(Qes, r) #Gas-fed electrolyzer\n",
    "\n",
    "#Compare energy costs of [sequential route, sequential route with no carbonate formation, optimistic integrated route,\n",
    "#baseline case, pessimistic case]\n",
    "Qa=np.concatenate(([Qaminer, Qaminer], [0,0,0]), axis=None) #amine regeneration\n",
    "Qcom = np.concatenate(([Qcompression, Qcompression], [0,0,0]), axis=None) #CO2 compression\n",
    "Qp=np.concatenate(([Qpsasep, Qpsasepnoc], [0,0,0]), axis=None) #PSA product separation\n",
    "Qc= np.concatenate(([Qcr,0], [0,0,0]), axis=None) #Carbonate regeneration\n",
    "Qe= np.concatenate(([Qes, Qes], [0,0,0]), axis=None) #Gas-fed electrolysis\n",
    "Qeec = np.concatenate(([0,0], Qec), axis=None) #Integrated electrolysis\n",
    "Qcombreg=np.concatenate(([0,0],Qaminercomb+Qpsacomb+Qcrcomb+Qescomb), axis=None) #Total separation&electrolysis for the integrated route\n",
    "Qcombregnoc = np.concatenate(([0,0],Qaminercomb+Qpsacombnoc+Qescomb+Qec), axis=None)#Total separation&electrolysis for the integrated route with no carbonate regeneration"
   ]
  },
  {
   "cell_type": "markdown",
   "id": "d3d9fd16",
   "metadata": {},
   "source": [
    "Fig. 3a: The energy breakdown in a bar chart"
   ]
  },
  {
   "cell_type": "code",
   "execution_count": 4,
   "id": "c085d76f",
   "metadata": {
    "scrolled": true
   },
   "outputs": [
    {
     "name": "stdout",
     "output_type": "stream",
     "text": [
      "[179 179   0   0   0]\n",
      "[16.5 16.5  0.   0.   0. ]\n",
      "[50.9  25.45  0.    0.    0.  ]\n",
      "[254   0   0   0   0]\n",
      "[643.23333333 643.23333333   0.           0.           0.        ]\n",
      "[0. 0. 0. 0. 0.]\n",
      "[   0.            0.          643.23333333 1102.68571429 2412.125     ]\n"
     ]
    },
    {
     "data": {
      "image/png": "[encoded data removed]",
      "text/plain": [
       "<Figure size 419.4x251.64 with 1 Axes>"
      ]
     },
     "metadata": {
      "needs_background": "light"
     },
     "output_type": "display_data"
    }
   ],
   "source": [
    "u=[1,2,3,4, 5] #set table x-axis index\n",
    "w=0.4 #define bar width\n",
    "\n",
    "plt.rcParams['font.family']='Arial' #set to Arial font\n",
    "plt.rcParams['font.size']=8 #set fontsize as 8\n",
    "fig=plt.gcf() \n",
    "fig.set_size_inches((2.33*2.5, 2.33*1.5)) #define a figure size\n",
    "plt.tick_params(direction='in') #let all the ticks point inward\n",
    "\n",
    "plt.bar(u,Qa,width=w, edgecolor='k',linewidth=0.5, facecolor='lightsteelblue', label='amine regeneration') #plot amine regeneration energy cost\n",
    "plt.bar(u, Qcom, bottom = Qa, width=w, edgecolor='k',linewidth=0.5, facecolor='white', label='CO$_2$ compression') #plot CO2 compression\n",
    "plt.bar(u,Qp, bottom=Qa + Qcom ,width=w, edgecolor='k',linewidth=0.5, facecolor='peru', label='product separation') #plot PSA product separation energy cost\n",
    "plt.bar(u, Qc, bottom = Qa + Qcom + Qp, width=w, edgecolor='k',linewidth=0.5, facecolor='darkcyan', label='(bi)carbonate regeneration') #plot carbonate regeneration\n",
    "plt.bar(u, Qe, bottom = Qa  + Qcom + Qp + Qc, width=w,edgecolor='k', linewidth=0.5, facecolor='lightgray', label='CO$_2$ electrolysis') #plot gas-fed electrolyzer energy cost\n",
    "#plt.bar(u, Qcombreg, bottom=Qa+Qp+Qc+Qe, width=w,edgecolor='k', linewidth=0.5, facecolor='white', label='energy penalty to regenerate amine') #plot separation&electrolysis energy cost\n",
    "plt.bar(u, Qeec, bottom = Qa  + Qcom + Qp + Qc + Qe +Qcombreg, width=w,edgecolor='k', linewidth=0.5, facecolor='powderblue', label ='electrolysis of captured CO$_2$') #plot integrated energy cost\n",
    "\n",
    "\n",
    "plt.ylim(0,2500) #set y-axis limit\n",
    "plt.xlim(0.5,5.5) #set x-axis limit\n",
    "\n",
    "plt.xticks([1,2,3,4,5],['50% utilisation$_{CO_2}$','100% utilisation$_{CO_2}$', 'optimistic','baseline',  'pessimistic']) #convert x-axis index to text label\n",
    "plt.tick_params(bottom=False) #remove x-axis ticks\n",
    "\n",
    "plt.legend(frameon=False, ncol=3, bbox_to_anchor=(1.05, -0.05)) #add legends\n",
    "plt.ylabel('Energy required per CO$_2$ converted \\n (kJ mol$^{-1}$)') #add y-axis label\n",
    "\n",
    "#print energy cost of each process\n",
    "print(Qa)\n",
    "print(Qcom)\n",
    "print(Qp)\n",
    "print(Qc)\n",
    "print(Qe)\n",
    "print(Qcombreg)\n",
    "print(Qeec)\n",
    "\n",
    "#Save the figure.\n",
    "#fig.savefig('Figure/barchart total energy.eps', bbox_inches='tight', pad_inches=0, transparent=True)"
   ]
  },
  {
   "cell_type": "markdown",
   "id": "dd92a313-68be-4c01-883f-f576c657814f",
   "metadata": {},
   "source": [
    "Energy saved if the gas-fed electrolyser has 50% CO2 utilisation efficiency for optimistic and baseline integrated scenarios"
   ]
  },
  {
   "cell_type": "code",
   "execution_count": 5,
   "id": "2a476630",
   "metadata": {},
   "outputs": [],
   "source": [
    "Qsave=[Qsep-Qcombreg[2]-Qeec[2], Qsep-Qcombreg[3]-Qeec[3]]"
   ]
  },
  {
   "cell_type": "code",
   "execution_count": 6,
   "id": "9abb2549",
   "metadata": {},
   "outputs": [
    {
     "data": {
      "text/plain": [
       "array([43.75528287,  3.58048492])"
      ]
     },
     "execution_count": 6,
     "metadata": {},
     "output_type": "execute_result"
    }
   ],
   "source": [
    "Qsave/Qsep*100"
   ]
  },
  {
   "cell_type": "markdown",
   "id": "2ee31157-53f8-4d3e-a952-2e565f4e4046",
   "metadata": {},
   "source": [
    "Energy saved if the gas-fed electrolyser has no carbonate formation for optimistic and baseline integrated scenarios"
   ]
  },
  {
   "cell_type": "code",
   "execution_count": 7,
   "id": "ee3450fb",
   "metadata": {},
   "outputs": [],
   "source": [
    "Qsavewithnoc=[Qsepnoc-Qcombreg[2]-Qeec[2], Qsep-Qcombreg[3]-Qeec[3]]"
   ]
  },
  {
   "cell_type": "code",
   "execution_count": 8,
   "id": "b34dcb89",
   "metadata": {},
   "outputs": [
    {
     "data": {
      "text/plain": [
       "array([25.56749147,  4.73830233])"
      ]
     },
     "execution_count": 8,
     "metadata": {},
     "output_type": "execute_result"
    }
   ],
   "source": [
    "Qsavewithnoc/Qsepnoc*100"
   ]
  },
  {
   "cell_type": "markdown",
   "id": "d2b61dc4",
   "metadata": {},
   "source": [
    "Fig. 3b: Comparison of thermal and electricity energy in a bar chart"
   ]
  },
  {
   "cell_type": "code",
   "execution_count": 13,
   "id": "d4bd8dcc",
   "metadata": {},
   "outputs": [
    {
     "name": "stdout",
     "output_type": "stream",
     "text": [
      "[ 733.63333333  685.18333333  643.23333333 1102.68571429 2412.125     ]\n",
      "[410 179   0   0   0]\n"
     ]
    },
    {
     "data": {
      "image/png": "[encoded data removed]",
      "text/plain": [
       "<Figure size 419.4x125.82 with 1 Axes>"
      ]
     },
     "metadata": {
      "needs_background": "light"
     },
     "output_type": "display_data"
    }
   ],
   "source": [
    "u=[1,2,3,4, 5] #set table x-axis index\n",
    "w=0.4 #define bar width\n",
    "\n",
    "plt.rcParams['font.family']='Arial' #set to Arial font\n",
    "plt.rcParams['font.size']=8 #set fontsize as 8\n",
    "fig=plt.gcf() \n",
    "fig.set_size_inches((2.33*2.5, 2.33*.75)) #define a figure size\n",
    "plt.tick_params(direction='in') #let all the ticks point inward\n",
    "\n",
    "Wpc = [23, 0, 0, 0, 0]\n",
    "Qpc = [231, 0, 0, 0, 0]\n",
    "\n",
    "plt.bar(u, Qcom + Qp + Qe + Qeec + Wpc, width=w, edgecolor='k',linewidth=0.5, facecolor='#cecfd1', label='Electricity') #plot CO2 compression\n",
    "plt.bar(u,Qa + Qpc, bottom =  Qcom + Qp + Qe + Qeec + Wpc, width=w, edgecolor='k',linewidth=0.5, facecolor='#de826b', label='Thermal') #plot amine regeneration energy cost\n",
    "\n",
    "plt.ylim(0,2500) #set y-axis limit\n",
    "plt.xlim(0.5,5.5) #set x-axis limit\n",
    "\n",
    "plt.xticks([1,2,3,4,5],['50% utilisation$_{CO_2}$','100% utilisation$_{CO_2}$', 'optimistic','baseline',  'pessimistic']) #convert x-axis index to text label\n",
    "plt.tick_params(bottom=False) #remove x-axis ticks\n",
    "\n",
    "plt.legend(frameon = False)\n",
    "plt.ylabel('Energy required per \\n CO$_2$ converted (kJ mol$^{-1}$)') #add y-axis label\n",
    "\n",
    "#print energy cost of each process\n",
    "print(Qcom + Qp + Qe + Qeec + Wpc)\n",
    "print(Qa + Qpc)\n",
    "\n",
    "#Save the figure.\n",
    "#fig.savefig('Figure/barchart - thermal and electricity.eps', bbox_inches='tight', pad_inches=0, transparent=True)"
   ]
  },
  {
   "cell_type": "markdown",
   "id": "494d1b32",
   "metadata": {},
   "source": [
    "Fig. 3c: the energy cost in a bar chart"
   ]
  },
  {
   "cell_type": "code",
   "execution_count": 19,
   "id": "da4f4c42",
   "metadata": {},
   "outputs": [
    {
     "name": "stdout",
     "output_type": "stream",
     "text": [
      "[185.26094276 173.02609428 162.43265993 278.45598846 609.12247475]\n",
      "[38.47824214 10.37289961  0.          0.          0.        ]\n"
     ]
    },
    {
     "data": {
      "image/png": "[encoded data removed]",
      "text/plain": [
       "<Figure size 419.4x125.82 with 1 Axes>"
      ]
     },
     "metadata": {
      "needs_background": "light"
     },
     "output_type": "display_data"
    }
   ],
   "source": [
    "u=[1,2,3,4, 5] #set table x-axis index\n",
    "w=0.4 #define bar width\n",
    "\n",
    "plt.rcParams['font.family']='Arial' #set to Arial font\n",
    "plt.rcParams['font.size']=8 #set fontsize as 8\n",
    "fig=plt.gcf() \n",
    "fig.set_size_inches((2.33*2.5, 2.33*.75)) #define a figure size\n",
    "plt.tick_params(direction='in') #let all the ticks point inward\n",
    "\n",
    "Pheatusdbtu = 2.69 #https://www.indexmundi.com/commodities/?commodity=natural-gas&months=12 usd per million BTU\n",
    "Pheatusdkj = Pheatusdbtu/1e6/1.055 #usd per kj\n",
    "Pelectricity = 0.04/3600 #usd per kj\n",
    "\n",
    "plt.bar(u, (Qcom + Qp + Qe + Qeec + Wpc)*Pelectricity/44*1e6, width=w, edgecolor='k',linewidth=0.5, facecolor='#cecfd1', label='Electricity') #plot CO2 compression\n",
    "plt.bar(u,(Qa + Qpc)*Pheatusdkj/44*1e6, bottom =  (Qcom + Qp + Qe + Qeec)*Pelectricity/44*1e6, width=w, edgecolor='k',linewidth=0.5, facecolor='#de826b', label='Thermal') #plot amine regeneration energy cost\n",
    "\n",
    "plt.ylim(0,700) #set y-axis limit\n",
    "plt.xlim(0.5,5.5) #set x-axis limit\n",
    "\n",
    "plt.xticks([1,2,3,4,5],['50% utilisation$_{CO_2}$','100% utilisation$_{CO_2}$', 'optimistic','baseline',  'pessimistic']) #convert x-axis index to text label\n",
    "plt.tick_params(bottom=False) #remove x-axis ticks\n",
    "\n",
    "plt.legend(frameon = False)\n",
    "plt.ylabel('Energy cost required per \\n ton CO$_2$ converted (USD t$^{-1}$)') #add y-axis label\n",
    "\n",
    "#print energy cost of each process\n",
    "print((Qcom + Qp + Qe + Qeec + Wpc)*Pelectricity/44*1e6)\n",
    "print((Qa + Qc + Qpc)*Pheatusdkj/44*1e6)\n",
    "\n",
    "#Save the figure.\n",
    "fig.savefig('Figure/barchart - energy cost.eps', bbox_inches='tight', pad_inches=0, transparent=True)"
   ]
  },
  {
   "cell_type": "code",
   "execution_count": 20,
   "id": "7ff9d857",
   "metadata": {},
   "outputs": [
    {
     "name": "stdout",
     "output_type": "stream",
     "text": [
      "0.2228849701257666\n",
      "0.1143208777275877\n"
     ]
    }
   ],
   "source": [
    "coste = (Qcom + Qp + Qe + Qeec + Wpc)*Pelectricity/44*1e6\n",
    "costth = (Qa + Qpc)*Pheatusdkj/44*1e6\n",
    "cost = coste+costth\n",
    "print((cost[0]-cost[2])/cost[0])\n",
    "print((cost[1]-cost[2])/cost[1])"
   ]
  }
 ],
 "metadata": {
  "kernelspec": {
   "display_name": "Python 3 (ipykernel)",
   "language": "python",
   "name": "python3"
  },
  "language_info": {
   "codemirror_mode": {
    "name": "ipython",
    "version": 3
   },
   "file_extension": ".py",
   "mimetype": "text/x-python",
   "name": "python",
   "nbconvert_exporter": "python",
   "pygments_lexer": "ipython3",
   "version": "3.9.7"
  }
 },
 "nbformat": 4,
 "nbformat_minor": 5
}
