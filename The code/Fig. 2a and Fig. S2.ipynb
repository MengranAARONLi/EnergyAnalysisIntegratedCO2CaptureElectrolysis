{
 "cells": [
  {
   "cell_type": "code",
   "execution_count": 1,
   "id": "80c99222",
   "metadata": {},
   "outputs": [],
   "source": [
    "import numpy as np\n",
    "import matplotlib.pyplot as plt\n",
    "import pandas as pd\n",
    "from matplotlib import rc, rcParams"
   ]
  },
  {
   "cell_type": "markdown",
   "id": "f521d0f3-8a42-4895-8d25-926f7531f965",
   "metadata": {
    "tags": []
   },
   "source": [
    "# Define functions to estimate potential loss of the electrolyzers"
   ]
  },
  {
   "cell_type": "markdown",
   "id": "35e82066",
   "metadata": {},
   "source": [
    "## This function is to calucalate the total potential loss except cathode potential"
   ]
  },
  {
   "cell_type": "code",
   "execution_count": 2,
   "id": "fc37b09b",
   "metadata": {},
   "outputs": [],
   "source": [
    "def estEother(i):\n",
    "    #VARIABLES AND CONSTANTS\n",
    "    alpha=0.6 #https://pubs-rsc-org.tudelft.idm.oclc.org/en/content/articlelanding/2020/ee/d0ee00673d ?\n",
    "    T=298.15 #Temperature at normal conditions\n",
    "    R=8.314 #Gas constant\n",
    "    U=1.23 #Thermodynamic equilibrium potential, V\n",
    "    pHamine=9 #pH value of 30wt% monoethanolamine solution loaded with about 40-60% CO2\n",
    "    #c_ohamine=10**(-14+pHamine)\n",
    "    pHanolyte=14 #pH value of the anolyte, we assumed the anolyte will be 1M KOH aqueous solution\n",
    "    #c_ohanolyte=10**(-14+pHanolyte)\n",
    "    A=1.23e-4 #mA cm-2 #pre-exponential factor\n",
    "    Ea=(11+1*14)*1000 #kJ/mol pH=14\n",
    "    F=96485 #Faraday constant, sA/mol\n",
    "    io=0.01 #Exchange current, mA cm-2 \n",
    "    \n",
    "    #condc=37 # 30wt% monoethanolamine aqueous solution ionic conductivity loaded with CO2, mS/cm \n",
    "    condc = 215 #assuming 30wt% monoethanolamine aqueous solution with salts has the same ionic conductivity loaded with CO2, mS/cm \n",
    "    cond_nafion=8 #Nafion 115 membrane ionic conductivity, S/m\n",
    "    conda=0.2153 #1M KOH aqueous electrolyte ionic conductivity, S/cm\n",
    "    \n",
    "    anolytegap=1 #gap between anode and membrane for anolyte to flow through, mm\n",
    "    catholytegap=3 #gap between cathode and membrane for capture media to flow through, mm\n",
    "    \n",
    "    #POTENTIAL LOSSES CALCULATION\n",
    "    Eoer=U+R*T/(alpha)/F*np.log(i/io) #Anode overpotential, V\n",
    "    Ememb=i/cond_nafion*115e-6/1000  #Ohmic loss due to ion conduction in the membrane\n",
    "    Eanolyte=i/conda*anolytegap/10/1000  #Ohmic loss from the anolyte\n",
    "    Ecatholyte = i/condc*catholytegap/10*1000/1000 #Ohmic loss from the capture media\n",
    "#https://www.researchgate.net/post/Why-is-KOH-solution-used-as-the-electrolyte-for-supercapacitor-testing-of-carbon-electrodes\n",
    "    Eother=Eoer+Ememb+Eanolyte+Ecatholyte #Total potential loss except cathode potential\n",
    "    \n",
    "    \n",
    "    return Eother"
   ]
  },
  {
   "cell_type": "markdown",
   "id": "ea3be532",
   "metadata": {},
   "source": [
    "## This function is to estimate potentials separately except cathode potential"
   ]
  },
  {
   "cell_type": "code",
   "execution_count": 3,
   "id": "3a1dd9a0",
   "metadata": {},
   "outputs": [],
   "source": [
    "def estE(i):\n",
    "    #VARIABLES AND CONSTANTS\n",
    "    alpha=0.6 #Charge-transfer coefficient for the anode reaction\n",
    "    T=298.15 #Temperature at normal conditions\n",
    "    R=8.314 #Gas constant\n",
    "    U=1.23 #Thermodynamic equilibrium potential, V\n",
    "    pHamine=9 #pH value of 30wt% monoethanolamine solution loaded with about 40-60% CO2\n",
    "    #c_ohamine=10**(-14+pHamine)#concentration of hydroxide ions in the amine \n",
    "    pHanolyte=14 #pH value of the anolyte, we assumed the anolyte will be 1M KOH aqueous solution\n",
    "    #c_ohanolyte=10**(-14+pHanolyte) #concentration of hydroxide ions in the anolyte\n",
    "    A=1.23e-4 #mA cm-2 #pre-exponential factor\n",
    "    F=96485 #Faraday constant, sA/mol\n",
    "    #io=A*np.exp(-Ea/R/T)\n",
    "    io=0.01 #Exchange current, mA cm-2 \n",
    "    conda=0.2153 #1M KOH aqueous electrolyte ionic conductivity, S/cm \n",
    "    condc=37 # 30wt% monoethanolamine aqueous solution ionic conductivity loaded with CO2, mS/cm \n",
    "    cond_nafion=8 #Nafion 115 membrane ionic conductivity, S/m   \n",
    "    anolytegap=1 #gap between anode and membrane for anolyte to flow through, mm\n",
    "    catholytegap=3 #gap between cathode and membrane for capture media to flow through, mm\n",
    "    \n",
    "    #POTENTIAL LOSSES CALCULATION\n",
    "    Eoer=U+R*T/(alpha)/F*np.log(i/io) #Anode overpotential, V\n",
    "    Ememb=i/cond_nafion*115e-6/1000 #Ohmic loss due to ion conduction in the membrane\n",
    "    Eanolyte=i/conda*anolytegap/10/1000 #Ohmic loss from the anolyte\n",
    "    Ecatholyte = i/condc*catholytegap/10*1000/1000 #Ohmic loss from the capture media\n",
    "    #Enerstian=R*T/F*np.log(c_ohamine/c_ohanolyte)\n",
    "#https://www.researchgate.net/post/Why-is-KOH-solution-used-as-the-electrolyte-for-supercapacitor-testing-of-carbon-electrodes\n",
    "    #Eother=Eoer+Ememb+Eanolyte+Ecatholyte\n",
    "    \n",
    "    #RETURN THE RESULTS\n",
    "    return Eoer, Ememb, Eanolyte, Ecatholyte\n"
   ]
  },
  {
   "cell_type": "markdown",
   "id": "ec1a52a9",
   "metadata": {},
   "source": [
    "## The below function is to estimate the potential losses except cathode overpotential if the amine solution has inorganic salts to improve ion conductivity"
   ]
  },
  {
   "cell_type": "code",
   "execution_count": 4,
   "id": "570cdbee",
   "metadata": {},
   "outputs": [],
   "source": [
    "def estEwithsalts(i):\n",
    "    #VARIABLES AND CONSTANTS\n",
    "    alpha=0.6 #Charge-transfer coefficient for the anode reaction\n",
    "    T=298.15 #Temperature at normal conditions\n",
    "    R=8.314 #Gas constant\n",
    "    U=1.23 #Thermodynamic equilibrium potential, V\n",
    "    pHamine=9 #pH value of 30wt% monoethanolamine solution loaded with about 40-60% CO2\n",
    "    #c_ohamine=10**(-14+pHamine)#concentration of hydroxide ions in the amine \n",
    "    pHanolyte=14 #pH value of the anolyte, we assumed the anolyte will be 1M KOH aqueous solution\n",
    "    #c_ohanolyte=10**(-14+pHanolyte) #concentration of hydroxide ions in the anolyte\n",
    "    A=1.23e-4 #mA cm-2 #pre-exponential factor\n",
    "    F=96485 #Faraday constant, sA/mol\n",
    "    #io=A*np.exp(-Ea/R/T)\n",
    "    io=0.01 #Exchange current, mA cm-2 \n",
    "    conda=0.2153 #1M KOH aqueous electrolyte ionic conductivity, S/cm \n",
    "    condc=215 # assuming 30wt% monoethanolamine aqueous solution with salts has the same ionic conductivity loaded with CO2, mS/cm \n",
    "    cond_nafion=8 #Nafion 115 membrane ionic conductivity, S/m   \n",
    "    anolytegap=1 #gap between anode and membrane for anolyte to flow through, mm\n",
    "    catholytegap=3 #gap between cathode and membrane for capture media to flow through, mm\n",
    "    \n",
    "    #POTENTIAL LOSSES CALCULATION\n",
    "    Eoer=U+R*T/(alpha)/F*np.log(i/io) #Anode overpotential, V\n",
    "    Ememb=i/cond_nafion*115e-6/1000 #Ohmic loss due to ion conduction in the membrane\n",
    "    Eanolyte=i/conda*anolytegap/10/1000 #Ohmic loss from the anolyte\n",
    "    Ecatholyte = i/condc*catholytegap/10*1000/1000 #Ohmic loss from the capture media\n",
    "    #Enerstian=R*T/F*np.log(c_ohamine/c_ohanolyte)\n",
    "#https://www.researchgate.net/post/Why-is-KOH-solution-used-as-the-electrolyte-for-supercapacitor-testing-of-carbon-electrodes\n",
    "    #Eother=Eoer+Ememb+Eanolyte+Ecatholyte\n",
    "    \n",
    "    #RETURN THE RESULTS\n",
    "    return Eoer, Ememb, Eanolyte, Ecatholyte"
   ]
  },
  {
   "cell_type": "markdown",
   "id": "2a070d5f",
   "metadata": {
    "tags": []
   },
   "source": [
    "## Fig. S2a"
   ]
  },
  {
   "cell_type": "code",
   "execution_count": 8,
   "id": "9af5fd38",
   "metadata": {},
   "outputs": [
    {
     "name": "stderr",
     "output_type": "stream",
     "text": [
      "/var/folders/c6/8vm3n_sj1k1cnflzwzcmx78c0000gn/T/ipykernel_47659/3859472094.py:24: RuntimeWarning: invalid value encountered in log\n",
      "  Eoer=U+R*T/(alpha)/F*np.log(i/io) #Anode overpotential, V\n"
     ]
    },
    {
     "data": {
      "text/plain": [
       "Text(0, 0.5, 'Potential (V)')"
      ]
     },
     "execution_count": 8,
     "metadata": {},
     "output_type": "execute_result"
    },
    {
     "data": {
      "image/png": "[encoded data removed]",
      "text/plain": [
       "<Figure size 223.68x167.76 with 1 Axes>"
      ]
     },
     "metadata": {
      "needs_background": "light"
     },
     "output_type": "display_data"
    }
   ],
   "source": [
    "plt.rcParams['font.family']='Arial' #set font to be Arial\n",
    "plt.rcParams['font.size']=8 #set font size to be 8\n",
    "fig=plt.gcf()\n",
    "fig.set_size_inches((2.33*4/3, 2.33)) #set figure size\n",
    "ax= fig.add_subplot(111)\n",
    "current=np.arange(-4, 305, 5) #define current densities from 1 to 300 mA cm-2\n",
    "Eoer, Ememb, Eanolyte, Ecatholyte=estE(current) #calculate the potential losses\n",
    "\n",
    "plt.plot(current, Eoer, 'k', lw=1) #plot the anode potential loss\n",
    "plt.plot(current, Ecatholyte+Eoer, 'k', lw=1) #plot ohmic loss from capture media\n",
    "plt.plot(current, Eanolyte+Ecatholyte+Eoer, 'k', lw=1) #plot ohmic loss from anolyte\n",
    "plt.plot(current, Ecatholyte+Eanolyte+Ememb+Eoer, 'k', lw=1) #plot ohmic loss from membrane\n",
    "\n",
    "#Fill different colors to highlight the potential contributions\n",
    "plt.fill_between(current, Eoer, 0, facecolor='darkcyan')\n",
    "plt.fill_between(current, Eoer+Ecatholyte, Eoer, facecolor='indianred')\n",
    "plt.fill_between(current, Eoer+Ecatholyte, Eoer+Ecatholyte, facecolor='r')\n",
    "plt.fill_between(current, Eanolyte+Ecatholyte+Eoer, Eoer+Ecatholyte, facecolor='lightsteelblue')\n",
    "plt.fill_between(current, Ecatholyte+Eanolyte+Ememb+Eoer, Eanolyte+Ecatholyte+Eoer, facecolor='firebrick')\n",
    "\n",
    "plt.xlim(0,300) #set x-axis limits\n",
    "plt.ylim(0,5) #set y-axis limits\n",
    "\n",
    "plt.xlabel('Current densities (mA cm$^{-2}$)') #set xlabel\n",
    "plt.ylabel('Potential (V)') #set ylabel\n",
    "#fig.savefig('Figure/potentials breakup.eps', bbox_inches='tight', pad_inches=0, transparent=True)"
   ]
  },
  {
   "cell_type": "markdown",
   "id": "3f67acc6",
   "metadata": {},
   "source": [
    "## Fig. S2b"
   ]
  },
  {
   "cell_type": "code",
   "execution_count": 6,
   "id": "eb3cb626",
   "metadata": {},
   "outputs": [
    {
     "name": "stderr",
     "output_type": "stream",
     "text": [
      "C:\\Users\\LOCALA~1\\AppData\\Local\\Temp/ipykernel_25100/3972139057.py:24: RuntimeWarning: invalid value encountered in log\n",
      "  Eoer=U+R*T/(alpha)/F*np.log(i/io) #Anode overpotential, V\n"
     ]
    },
    {
     "data": {
      "image/png": "[encoded data removed]",
      "text/plain": [
       "<Figure size 223.68x167.76 with 1 Axes>"
      ]
     },
     "metadata": {
      "needs_background": "light"
     },
     "output_type": "display_data"
    }
   ],
   "source": [
    "#Assuming the amine solution with salts has the same conductivity to 1 M KOH aq solution.\n",
    "plt.rcParams['font.family']='Arial' #set font to be Arial\n",
    "plt.rcParams['font.size']=8 #set font size to be 8\n",
    "fig=plt.gcf()\n",
    "fig.set_size_inches((2.33*4/3, 2.33)) #set figure size\n",
    "ax= fig.add_subplot(111)\n",
    "current=np.arange(-4, 305, 5) #define current densities from 1 to 300 mA cm-2\n",
    "Eoer, Ememb, Eanolyte, Ecatholyte=estEwithsalts(current) #calculate the potential losses\n",
    "\n",
    "plt.plot(current, Eoer, 'k', lw=1) #plot the anode potential loss\n",
    "plt.plot(current, Ecatholyte+Eoer, 'k', lw=1) #plot ohmic loss from capture media\n",
    "plt.plot(current, Eanolyte+Ecatholyte+Eoer, 'k', lw=1) #plot ohmic loss from anolyte\n",
    "plt.plot(current, Ecatholyte+Eanolyte+Ememb+Eoer, 'k', lw=1) #plot ohmic loss from membrane\n",
    "\n",
    "#Fill different colors to highlight the potential contributions\n",
    "plt.fill_between(current, Eoer, 0, facecolor='darkcyan')\n",
    "plt.fill_between(current, Eoer+Ecatholyte, Eoer, facecolor='indianred')\n",
    "plt.fill_between(current, Eoer+Ecatholyte, Eoer+Ecatholyte, facecolor='r')\n",
    "plt.fill_between(current, Eanolyte+Ecatholyte+Eoer, Eoer+Ecatholyte, facecolor='lightsteelblue')\n",
    "plt.fill_between(current, Ecatholyte+Eanolyte+Ememb+Eoer, Eanolyte+Ecatholyte+Eoer, facecolor='firebrick')\n",
    "\n",
    "plt.xlim(0,300) #set x-axis limits\n",
    "plt.ylim(0,5) #set y-axis limits\n",
    "\n",
    "plt.xlabel('Current densities (mA cm$^{-2}$)') #set xlabel\n",
    "plt.ylabel('Potential (V)') #set ylabel\n",
    "#fig.savefig('Figure/potentials breakup with inorganic salts.eps', bbox_inches='tight', pad_inches=0, transparent=True)"
   ]
  },
  {
   "cell_type": "markdown",
   "id": "5ad246d6-0534-4136-9437-d67742aebbe0",
   "metadata": {
    "tags": []
   },
   "source": [
    "# Fig. 2a"
   ]
  },
  {
   "cell_type": "code",
   "execution_count": 5,
   "id": "b6e11a33",
   "metadata": {},
   "outputs": [],
   "source": [
    "f=pd.read_excel('literature data.xlsx', sheet_name='Combine') #Read literature data of integrated electrolyzer in the excel spreadsheet\n",
    "j_combine=f['Current densities'] #Read all the reported current densities of integrated electrolyzer, mA cm-2 \n",
    "fe_combine=f['FE(%) of CO']/100 #Read all the reported Faradaic efficiencies of the integrated electrolyzer\n",
    "Ec_combine=f['Cathode Potential (V)'] #Read reported cathode potential, V\n",
    "Eother_combine=estEother(j_combine) #Calculate the total potential except cathode potential from current densities\n",
    "E_combine=-Ec_combine+Eother_combine #Calculate the cell potential\n",
    "Q_combine=np.dot(E_combine, 2*96485)/(fe_combine*1000) #Calculate the energy cost of the integrated electrolyzers"
   ]
  },
  {
   "cell_type": "code",
   "execution_count": 6,
   "id": "f08f07d9",
   "metadata": {},
   "outputs": [],
   "source": [
    "ff=pd.read_excel('literature data.xlsx', sheet_name='Separate') #Read literature data of gas-fed electrolyzer in the excel spreadsheet\n",
    "z = 2 #Number of charge transfered to produce one molecule of product\n",
    "F = 96485 # A mol-1 Faraday constant\n",
    "j_s=ff['Current densities'] #Read all the reported current densities of gas-fed electrolyzer, mA cm-2 \n",
    "E_s=ff['Calculated Cell Voltage (V) '] #Read all the reported cell potentials of the gas-fed electrolyzers\n",
    "fe_s=ff['FE(%) of CO']/100 #Read all the reported Faradaic efficiencies of the gas-fed electrolyzer\n",
    "Q_s=np.dot(E_s, z*F)/(fe_s*1000) #Calculate the energy cost of the gas-fed electrolyzers\n"
   ]
  },
  {
   "cell_type": "code",
   "execution_count": 7,
   "id": "ebdbd4ca",
   "metadata": {},
   "outputs": [],
   "source": [
    "FE=np.arange(0.01,1.01,0.01) # Set a range of CO FE\n",
    "E=np.arange(1.23+0.104,8,(8-1.23-0.104)/100) #Set a range of cell potentials\n",
    "FEFE, EE = np.meshgrid(FE, E) #build a mesh grid of CO FE and cell potentials\n",
    "Q=EE*z*F/FEFE/1000 #Calculate the energy cost of the electrolyzer using the mesh grid, kJ/molCO2 converted."
   ]
  },
  {
   "cell_type": "code",
   "execution_count": 21,
   "id": "e2d08d3c",
   "metadata": {},
   "outputs": [
    {
     "data": {
      "image/png": "[encoded data removed]",
      "text/plain": [
       "<Figure size 335.52x251.64 with 1 Axes>"
      ]
     },
     "metadata": {
      "needs_background": "light"
     },
     "output_type": "display_data"
    }
   ],
   "source": [
    "plt.rcParams['font.family']='Arial' #Set font to be Arial\n",
    "plt.rcParams['font.size']=8 #Set fontsize to be 8\n",
    "fig=plt.gcf()\n",
    "fig.set_size_inches((2.33*4/3*1.5, 2.33*1.5)) #Set Figure size\n",
    "ax= fig.add_subplot(111)\n",
    "\n",
    "plt.plot(FE*100, Q.T[:,0],'k', lw=1) #Plot the lower limit\n",
    "plt.plot(FE*100, Q.T[:,-1],'k',lw=1) #Plot the upper limit\n",
    "#Highlight the region the electrolyzer will fall in.\n",
    "plt.fill_between(FE*100, Q.T[:, 0], Q.T[:,-1], facecolor='lightsteelblue') \n",
    "#Plot the energy performance of the integrated electrolyzers\n",
    "plt.scatter(fe_combine[:-1]*100, Q_combine[:-1], \n",
    "         s=j_combine[:-1].values, alpha=0.5,  facecolor='white', edgecolors='darkred') \n",
    "#Plot the energy performance of the gas-fed electrolyzers\n",
    "plt.scatter(fe_s*100, Q_s, s=j_s.values,  facecolor='w', alpha=0.5, edgecolors='darkcyan')\n",
    "\n",
    "plt.xlim(0,100) #Set xaxis limits\n",
    "\n",
    "plt.xlabel('Faradaic efficiency (%)') #Set xlabel\n",
    "plt.ylabel('Energy required per CO$_2$ electrochemically converted \\n (kJ mol$^{-1}$)') #Set ylabel\n",
    "\n",
    "plt.yscale('log') #Set y-axis in log scale.\n",
    "\n",
    "#fig.savefig('Figure/co2 electrolysis comparison.png', bbox_inches='tight', dpi=1200, pad_inches=0, transparent=True) #Save the figure."
   ]
  },
  {
   "cell_type": "code",
   "execution_count": null,
   "id": "da62261a-4e9f-4c47-9688-008d3611d676",
   "metadata": {},
   "outputs": [],
   "source": []
  }
 ],
 "metadata": {
  "kernelspec": {
   "display_name": "Python 3 (ipykernel)",
   "language": "python",
   "name": "python3"
  },
  "language_info": {
   "codemirror_mode": {
    "name": "ipython",
    "version": 3
   },
   "file_extension": ".py",
   "mimetype": "text/x-python",
   "name": "python",
   "nbconvert_exporter": "python",
   "pygments_lexer": "ipython3",
   "version": "3.9.7"
  }
 },
 "nbformat": 4,
 "nbformat_minor": 5
}
