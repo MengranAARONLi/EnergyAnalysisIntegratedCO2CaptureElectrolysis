{
 "cells": [
  {
   "cell_type": "markdown",
   "id": "023f76a3-2b17-43a9-b0a0-40aacdc99f10",
   "metadata": {},
   "source": [
    "# Fig. 2b"
   ]
  },
  {
   "cell_type": "code",
   "execution_count": 1,
   "id": "33b271c4-0e2e-4d5b-bd2c-aa30aa228e6a",
   "metadata": {},
   "outputs": [],
   "source": [
    "import numpy as np\n",
    "import matplotlib.pyplot as plt\n",
    "import pandas as pd\n",
    "from matplotlib import rc, rcParams"
   ]
  },
  {
   "cell_type": "code",
   "execution_count": 6,
   "id": "a3958383-f5d5-4e44-bc65-674a3bf48457",
   "metadata": {},
   "outputs": [],
   "source": [
    "FE = np.arange(0.3,1.01, 0.01) #Set Faradaic efficiency range\n",
    "E = np.arange(2, 8.1, 0.05) #Set cell potential range\n",
    "z=2 #number of charge transfer to produce convert one CO2 molecule to CO\n",
    "F=96485 #Faraday constant, sA/mol\n",
    "e, fe= np.meshgrid(E, FE) #build a mesh grid for the analysis\n",
    "\n",
    "Q = e*z*F/fe/1000 #calculate the energy cost to convert one mole CO2 electrochemically, kJ/molCO2"
   ]
  },
  {
   "cell_type": "code",
   "execution_count": 7,
   "id": "13530702-7f8f-4112-b713-564281d10f0e",
   "metadata": {},
   "outputs": [],
   "source": [
    "#It only works in Jupyterlab, it allows the following figure pop out for further mannual manipulation.\n",
    "#%matplotlib tk\n",
    "%matplotlib tk"
   ]
  },
  {
   "cell_type": "code",
   "execution_count": 9,
   "id": "6f491d1d-7c8b-4c79-ac96-576511be425b",
   "metadata": {},
   "outputs": [
    {
     "name": "stderr",
     "output_type": "stream",
     "text": [
      "/var/folders/c6/8vm3n_sj1k1cnflzwzcmx78c0000gn/T/ipykernel_36742/2214621019.py:9: MatplotlibDeprecationWarning: shading='flat' when X and Y have the same dimensions as C is deprecated since 3.3.  Either specify the corners of the quadrilaterals with X and Y, or pass shading='auto', 'nearest' or 'gouraud', or set rcParams['pcolor.shading'].  This will become an error two minor releases later.\n",
      "  plt.pcolor(E, FE*100, Q,cmap='coolwarm') #Draw the color heat map for the energy cost vs. E and FE\n"
     ]
    },
    {
     "name": "stdout",
     "output_type": "stream",
     "text": [
      "Select label locations manually using first mouse button.\n",
      "End manual selection with second mouse button.\n"
     ]
    }
   ],
   "source": [
    "#While plotting the following figure, a pop-out figure will be generated for you to choose the contour line labels. \n",
    "#Please do it and end up with pressing middle wheel button.\n",
    "plt.rcParams['font.family']='Arial'\n",
    "plt.rcParams['font.size']=8\n",
    "fig=plt.gcf()\n",
    "fig.set_size_inches(2.33*0.8, 2.33*1.5)\n",
    "plt.tick_params(direction='in')\n",
    "\n",
    "plt.pcolor(E, FE*100, Q,cmap='coolwarm') #Draw the color heat map for the energy cost vs. E and FE\n",
    "plt.colorbar()\n",
    "CS=plt.contour(E,FE*100, Q, [600, 800, 1200, 2000], linewidths=0.5, colors=['k','k']) #draw the contour line for 600, 800, 1200, 2000\n",
    "plt.clabel(CS, manual = 1, fmt='%1.0f',  fontsize=8) #Allow mannualy adding the label to the contour lines\n",
    "plt.xlabel('Cell voltage (V)') #set xlabel\n",
    "plt.ylabel('Faradaic efficiency (%)') #set ylabel\n",
    "\n",
    "fig.savefig('Figure/FE and E on energy.eps', bbox_inches='tight', pad_inches=0, transparent=True) "
   ]
  }
 ],
 "metadata": {
  "kernelspec": {
   "display_name": "Python 3 (ipykernel)",
   "language": "python",
   "name": "python3"
  },
  "language_info": {
   "codemirror_mode": {
    "name": "ipython",
    "version": 3
   },
   "file_extension": ".py",
   "mimetype": "text/x-python",
   "name": "python",
   "nbconvert_exporter": "python",
   "pygments_lexer": "ipython3",
   "version": "3.9.7"
  }
 },
 "nbformat": 4,
 "nbformat_minor": 5
}
