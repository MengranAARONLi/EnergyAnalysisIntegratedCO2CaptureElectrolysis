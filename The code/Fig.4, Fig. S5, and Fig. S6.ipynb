{
 "cells": [
  {
   "cell_type": "markdown",
   "id": "25cbdc3d-2970-4159-a779-4a0a4e21136d",
   "metadata": {},
   "source": [
    "Please press Shift + Enter to run each cell"
   ]
  },
  {
   "cell_type": "code",
   "execution_count": 1,
   "id": "9fc89806",
   "metadata": {},
   "outputs": [],
   "source": [
    "import numpy as np\n",
    "import matplotlib.pyplot as plt\n",
    "import pandas as pd\n",
    "from matplotlib import rc, rcParams"
   ]
  },
  {
   "cell_type": "markdown",
   "id": "47092596",
   "metadata": {
    "tags": []
   },
   "source": [
    "# Fig. S5"
   ]
  },
  {
   "cell_type": "markdown",
   "id": "9fe7cda5-78cf-4e09-899e-638b6027a530",
   "metadata": {},
   "source": [
    "Fig. S5b: CO FE effects"
   ]
  },
  {
   "cell_type": "code",
   "execution_count": 2,
   "id": "15565e58",
   "metadata": {},
   "outputs": [],
   "source": [
    "#VARIABLES AND CONSTANTS\n",
    "\n",
    "Qcr=231 + 23 #Energy cost for carbonate regeneration, kJ/molCO2\n",
    "Qpsa=(14.5 + 36.4)/2 # Pressure swing absorption kJ/molCO2, the energy is in between 14.5-36.4 kJ/molCO2.\n",
    "Qcompression = (14+19)/2 #CO2 compression kJ/molCO2, the energy is in between 14.0 - 19.0 kJ/molCO2 \n",
    "Qar=179 # Amine regeneration considering heat integration in the capture, kJ/molCO2, the energy is at between 155 - 203 kJ/molCO2\n",
    "z=2\n",
    "F=96485\n",
    "\n",
    "Xout=0.3 #CO2 loading for CO2-lean amine stream\n",
    "Xin=0.5 #CO2 loading for CO2-rich amine stream\n",
    "\n",
    "x=0.5 #Single-pass conversion rate of the gas-fed electrolyzer\n",
    "FE=0.9  #CO FE for the gas-fed electrolyzer\n",
    "E=3 # Cell voltage of the gas-fed electrolyzer, V\n",
    "\n",
    "X=0.3 #CO2 loading in the effluent of the integrated electrolyzer\n",
    "Ecomb=4 #Cell voltage of the integrated electrolyzer, V\n",
    "Ecomb_optimal=3 #Set a lower cell potential\n",
    "Ecomb_worst=5 #Set a higher cell potential\n",
    "\n",
    "FEcomb=np.arange(.2,0.91,0.01) #CO FE of the integrated electrolyzer from 0.2 to 0.9\n",
    "\n",
    "#CALCULATE ENERGY COST\n",
    "#Sequential route\n",
    "Qsep=Qar+ Qcompression + Qpsa*2*(1/x-1)+Qcr+E*z*F/FE/1000\n",
    "\n",
    "#Integrated route\n",
    "r=np.divide((X-Xout),(Xin-Xout)) #Molar ratio of the unreacted CO2 for the separation&electrolysis process\n",
    "rc = np.divide((Xin-X),(Xin-Xout)) #Molar ratio of the CO2 used for the integrated electrolysis\n",
    "\n",
    "Qec = rc*(np.dot(Ecomb, z*F)/(FEcomb*1000)) #Energy cost of the integrated electrolyzer, kJ/molCO2\n",
    "Qec_optimal = rc*(np.dot(Ecomb_optimal, z*F)/(FEcomb*1000)) #Energy cost of the integrated electrolyzer based on an optimal cell voltage, kJ/molCO2\n",
    "Qec_worst = rc*(np.dot(Ecomb_worst, z*F)/(FEcomb*1000)) \n",
    "\n",
    "Qarcomb=Qsep*r #Energy cost of the separation&electrolysis process, kJ/molCO2\n",
    "\n",
    "Qcomb=Qarcomb + Qec #Total energy cost for the integrated route\n",
    "Qcomb_optimal=Qarcomb + Qec_optimal #Total energy cost for the integrated route based on 3V cell voltage\n",
    "Qcomb_worst=Qarcomb + Qec_worst #Total energy cost for the integrated route based on 5V cell voltage\n",
    "\n",
    "#Energy gains\n",
    "gain = Qsep - Qcomb #for cell voltage = 4V\n",
    "gain_optimal = Qsep - Qcomb_optimal #for cell voltage = 3V\n",
    "gain_worst = Qsep - Qcomb_worst #for cell voltage = 5V\n"
   ]
  },
  {
   "cell_type": "code",
   "execution_count": 3,
   "id": "4d28d528",
   "metadata": {},
   "outputs": [
    {
     "data": {
      "text/plain": [
       "([<matplotlib.axis.YTick at 0x20a6dc4d640>,\n",
       "  <matplotlib.axis.YTick at 0x20a6dc33e80>,\n",
       "  <matplotlib.axis.YTick at 0x20a6dc33310>,\n",
       "  <matplotlib.axis.YTick at 0x20a6fcb0a30>,\n",
       "  <matplotlib.axis.YTick at 0x20a6fcb61c0>,\n",
       "  <matplotlib.axis.YTick at 0x20a6fcb6910>],\n",
       " [Text(0, 0, ''),\n",
       "  Text(0, 0, ''),\n",
       "  Text(0, 0, ''),\n",
       "  Text(0, 0, ''),\n",
       "  Text(0, 0, ''),\n",
       "  Text(0, 0, '')])"
      ]
     },
     "execution_count": 3,
     "metadata": {},
     "output_type": "execute_result"
    },
    {
     "data": {
      "image/png": "[encoded data removed]",
      "text/plain": [
       "<Figure size 167.76x167.76 with 1 Axes>"
      ]
     },
     "metadata": {
      "needs_background": "light"
     },
     "output_type": "display_data"
    }
   ],
   "source": [
    "plt.rcParams['font.family']='Arial' #Set font to be Arial\n",
    "plt.rcParams['font.size']=8 #Set fontsize to be 8\n",
    "\n",
    "fig=plt.gcf()\n",
    "fig.set_size_inches((2.33, 2.33)) #Set figure size \n",
    "\n",
    "plt.fill_between(FEcomb*100, 0, Qsep, facecolor='#cce1fc') #Plot the region where integrated route has energy benefits\n",
    "plt.fill_between(FEcomb*100, Qsep, 3000, facecolor='#ebd4cc') #Plot the region where sequential route has energy benefits\n",
    "\n",
    "plt.plot(FEcomb*100,np.ones(len(FEcomb))*Qsep, '--', color='gray') #Plot the breakeven line\n",
    "\n",
    "plt.plot(FEcomb*100, Qcomb, color='darkcyan', lw=1) #Plot the baseline\n",
    "plt.plot(FEcomb*100, Qcomb_optimal, color='maroon', lw=1) #Plot the optimal case\n",
    "plt.plot(FEcomb*100, Qcomb_worst, color='gray', lw=1) #Plot the pessimistic case\n",
    "\n",
    "plt.xlabel('Faradaic efficiency (%)') #Add xlabel\n",
    "plt.ylabel('Integrated route energy requirement \\n(kJ/mol CO$_2$ converted)') #Add ylabel\n",
    "plt.tick_params(direction='in') #All ticks point inward\n",
    "plt.xlim(20,90) #Set x-axis limits\n",
    "plt.ylim(0,2500) #Set y-axis limits\n",
    "plt.xticks(np.arange(20,91, 10)) #Set the xticks\n",
    "plt.yticks(np.arange(0, 2501, 500)) #Set the yticks\n",
    "#fig.savefig('Figure/FE impact integrated.png', bbox_inches='tight', pad_inches=0, dpi=1200)"
   ]
  },
  {
   "cell_type": "code",
   "execution_count": 4,
   "id": "a737b608-224c-4c7f-83eb-12bf8d6741ce",
   "metadata": {},
   "outputs": [],
   "source": [
    "#A program to calculate breakeven point\n",
    "def breakeven(gain):\n",
    "    minid=np.argmin(abs(gain))\n",
    "    return FEcomb[minid]\n",
    "    #print(gain[minid])"
   ]
  },
  {
   "cell_type": "code",
   "execution_count": 5,
   "id": "f82f7912-3d3e-4687-90a2-8ac6f6fff781",
   "metadata": {},
   "outputs": [
    {
     "name": "stdout",
     "output_type": "stream",
     "text": [
      "When the cell voltage = 4 V, the breakeven CO FE is 67.0 %\n",
      "When the cell voltage = 3 V, the breakeven CO FE is 51.0 %\n",
      "When the cell voltage = 5 V, the breakeven CO FE is 84.0 %\n"
     ]
    }
   ],
   "source": [
    "print('When the cell voltage = 4 V, the breakeven CO FE is', round(breakeven(gain),3)*100, '%')\n",
    "print('When the cell voltage = 3 V, the breakeven CO FE is', round(breakeven(gain_optimal),3)*100, '%')\n",
    "print('When the cell voltage = 5 V, the breakeven CO FE is', round(breakeven(gain_worst),3)*100, '%')"
   ]
  },
  {
   "cell_type": "markdown",
   "id": "98ac3534",
   "metadata": {},
   "source": [
    "Fig. S5c: Cell voltages effects"
   ]
  },
  {
   "cell_type": "code",
   "execution_count": 6,
   "id": "16b4a1ed",
   "metadata": {},
   "outputs": [],
   "source": [
    "Ecomb=np.arange(3,5.1,0.1) # Cell potentials sweep from 3 to 5\n",
    "FEcomb=0.7 #CO FE\n",
    "FEcomb_optimal = 0.9 #optimal CO FE\n",
    "FEcomb_worst = 0.4 #pessimesitic CO FE\n",
    "\n",
    "Qec = rc*(np.dot(Ecomb, z*F)/(FEcomb*1000)) #Energy cost of the integrated electrolyzer, kJ/molCO2\n",
    "Qec_optimal = rc*(np.dot(Ecomb, z*F)/(FEcomb_optimal*1000)) #Energy cost of the integrated electrolyzer, kJ/molCO2\n",
    "Qec_worst = rc*(np.dot(Ecomb, z*F)/(FEcomb_worst*1000)) #Energy cost of the integrated electrolyzer, kJ/molCO2\n",
    "Qarcomb=Qsep*r #Energy cost of the integrated electrolyzer based on an optimal cell voltage, kJ/molCO2\n",
    "\n",
    "Qcomb=Qarcomb + Qec #Total energy cost for the integrated route\n",
    "Qcomb_optimal=Qarcomb + Qec_optimal #Total energy cost for the integrated route\n",
    "Qcomb_worst=Qarcomb + Qec_worst #Total energy cost for the integrated routeQcomb=Qarcomb + Qec #Total energy cost for the integrated route\n",
    "\n",
    "#Energy gains\n",
    "gain = Qsep - Qcomb\n",
    "gain_optimal = Qsep - Qcomb_optimal \n",
    "gain_worst = Qsep - Qcomb_worst"
   ]
  },
  {
   "cell_type": "code",
   "execution_count": 7,
   "id": "a2748ea5",
   "metadata": {},
   "outputs": [
    {
     "data": {
      "text/plain": [
       "([<matplotlib.axis.YTick at 0x20a6fdd4130>,\n",
       "  <matplotlib.axis.YTick at 0x20a6fddb970>,\n",
       "  <matplotlib.axis.YTick at 0x20a5cacdb20>,\n",
       "  <matplotlib.axis.YTick at 0x20a6fe5b0a0>,\n",
       "  <matplotlib.axis.YTick at 0x20a6fe5b760>,\n",
       "  <matplotlib.axis.YTick at 0x20a6fe62040>],\n",
       " [Text(0, 0, ''),\n",
       "  Text(0, 0, ''),\n",
       "  Text(0, 0, ''),\n",
       "  Text(0, 0, ''),\n",
       "  Text(0, 0, ''),\n",
       "  Text(0, 0, '')])"
      ]
     },
     "execution_count": 7,
     "metadata": {},
     "output_type": "execute_result"
    },
    {
     "data": {
      "image/png": "[encoded data removed]",
      "text/plain": [
       "<Figure size 167.76x167.76 with 1 Axes>"
      ]
     },
     "metadata": {
      "needs_background": "light"
     },
     "output_type": "display_data"
    }
   ],
   "source": [
    "plt.rcParams['font.family']='Arial' #Set font to be Arial\n",
    "plt.rcParams['font.size']=8 #Set fontsize to be 8\n",
    "\n",
    "fig=plt.gcf()\n",
    "fig.set_size_inches((2.33, 2.33)) #Set Figure Size\n",
    "\n",
    "plt.fill_between(Ecomb, 0, Qsep, facecolor='#cce1fc') \n",
    "plt.fill_between(Ecomb, Qsep, 3000, facecolor='#ebd4cc')\n",
    "\n",
    "\n",
    "plt.plot(Ecomb,np.ones(len(Ecomb))*Qsep, '--', color='gray')\n",
    "\n",
    "\n",
    "plt.plot(Ecomb, Qcomb, color='darkcyan', lw=1)\n",
    "plt.plot(Ecomb, Qcomb_optimal, color='maroon', lw=1)\n",
    "plt.plot(Ecomb, Qcomb_worst, color='gray', lw=1)\n",
    "\n",
    "plt.xlabel('Cell voltage (V)')\n",
    "plt.ylabel('Integrated route energy requirement \\n(kJ/mol CO$_2$ converted)')\n",
    "plt.tick_params(direction='in')\n",
    "plt.xlim(3,5)\n",
    "plt.ylim(0,2500)\n",
    "plt.yticks(np.arange(0,2501,500))\n",
    "#fig.savefig('Figure/E impact integrated.png', bbox_inches='tight', pad_inches=0, dpi=1200)\n"
   ]
  },
  {
   "cell_type": "code",
   "execution_count": 8,
   "id": "910d43f1-0586-4f88-a858-74ddaf5af638",
   "metadata": {},
   "outputs": [],
   "source": [
    "def breakevenE(gain):\n",
    "    minid=np.argmin(abs(gain))\n",
    "    return Ecomb[minid]"
   ]
  },
  {
   "cell_type": "code",
   "execution_count": 9,
   "id": "a7a4d052-5e7c-4516-b36e-1898f03bc61b",
   "metadata": {},
   "outputs": [
    {
     "name": "stdout",
     "output_type": "stream",
     "text": [
      "When the cell voltage = 70%, the breakeven CO FE is 4.1 V\n",
      "When the cell voltage = 90%, the breakeven CO FE is 5.0 V\n",
      "When the cell voltage = 40%, the breakeven CO FE is 3.0 V\n"
     ]
    }
   ],
   "source": [
    "print('When the cell voltage = 70%, the breakeven CO FE is', round(breakevenE(gain),3), 'V')\n",
    "print('When the cell voltage = 90%, the breakeven CO FE is', round(breakevenE(gain_optimal),3), 'V')\n",
    "print('When the cell voltage = 40%, the breakeven CO FE is', round(breakevenE(gain_worst),3), 'V')"
   ]
  },
  {
   "cell_type": "markdown",
   "id": "8b6547ed-0e1e-4abd-adef-02f4989ea520",
   "metadata": {
    "tags": []
   },
   "source": [
    "Fig. S5a: Electrolyser power effects"
   ]
  },
  {
   "cell_type": "code",
   "execution_count": 10,
   "id": "05336711-8220-4e1f-8f65-fa65ed7d0c0f",
   "metadata": {},
   "outputs": [],
   "source": [
    "Pcomb=np.arange(1.334*z*F/1/1000, 5*z*F/0.2/1000) #Set a range of the integrated electrolyzer power\n",
    "Qcomb=Qarcomb + rc*Pcomb #Calculate the total energy requirement for the integrated route\n",
    "gain=Qsep-Qcomb #Calculate potential energy gain from integrated route vs. sequential route."
   ]
  },
  {
   "cell_type": "code",
   "execution_count": 11,
   "id": "4c527595-78f0-43b3-b618-2fca0d31a526",
   "metadata": {},
   "outputs": [
    {
     "data": {
      "text/plain": [
       "(0.0, 2500.0)"
      ]
     },
     "execution_count": 11,
     "metadata": {},
     "output_type": "execute_result"
    },
    {
     "data": {
      "image/png": "[encoded data removed]",
      "text/plain": [
       "<Figure size 167.76x159.372 with 1 Axes>"
      ]
     },
     "metadata": {
      "needs_background": "light"
     },
     "output_type": "display_data"
    }
   ],
   "source": [
    "plt.rcParams['font.family']='Arial'\n",
    "plt.rcParams['font.size']=8\n",
    "\n",
    "fig=plt.gcf()\n",
    "fig.set_size_inches((2.33, 2.33*0.95))\n",
    "xzero=np.arange(0, 12000, 2500)\n",
    "plt.fill_between(xzero, 0, Qsep, facecolor='#cce1fc')\n",
    "plt.fill_between(xzero, Qsep, 3500, facecolor='#ebd4cc')\n",
    "\n",
    "plt.plot(xzero,np.ones(len(xzero))*Qsep, '--', color='gray')\n",
    "\n",
    "plt.plot(Pcomb, Qcomb, color='k', lw=1)\n",
    "plt.xlabel('Energy cost for integrated electrolyzer \\n(kJ mol$^{-1}_{CO_2 electrochemically converted}$)')\n",
    "plt.ylabel('Integrated route energy requirement \\n(kJ/mol CO$_2$ converted)')\n",
    "plt.tick_params(direction='in')\n",
    "plt.xlim(0,5000)\n",
    "plt.ylim(0, 2500)\n",
    "#fig.savefig('Figure/Q impact integrated energy.png', bbox_inches='tight', pad_inches=0, dpi=1200)"
   ]
  },
  {
   "cell_type": "code",
   "execution_count": 12,
   "id": "1a26ceef-db1b-448c-8eda-57f7cf75860c",
   "metadata": {},
   "outputs": [
    {
     "name": "stdout",
     "output_type": "stream",
     "text": [
      "1143.42198\n",
      "0.2113533333331361\n"
     ]
    }
   ],
   "source": [
    "minid=np.argmin(abs(gain))\n",
    "print(Pcomb[minid])\n",
    "print(gain[minid])"
   ]
  },
  {
   "cell_type": "markdown",
   "id": "fae6f4c8",
   "metadata": {
    "tags": []
   },
   "source": [
    "# Figure 4"
   ]
  },
  {
   "cell_type": "code",
   "execution_count": 13,
   "id": "62e172ba",
   "metadata": {},
   "outputs": [],
   "source": [
    "X=np.arange(0.3, 0.51, 0.01)\n",
    "Ecomb = [4,3,5]\n",
    "FEcomb = [0.7,0.9,0.4]\n",
    "\n",
    "#separate\n",
    "\n",
    "r=np.divide((X-Xout),(Xin-Xout)) #Molar ratio of the unreacted CO2 for the separation&electrolysis process\n",
    "rc = np.divide((Xin-X),(Xin-Xout)) #Molar ratio of the CO2 used for the integrated electrolysis\n",
    "\n",
    "Qec = rc*(np.dot(Ecomb[0], z*F)/(FEcomb[0]*1000)) #Energy cost for the integrated electrolyzer\n",
    "Qarcomb=np.dot(Qsep, r) #Energy cost for the separation & electrolysis process \n",
    "Qcomb=Qarcomb + Qec #Total energy cost\n",
    "\n",
    "Qec_worst = rc*(np.dot(Ecomb[2], z*F)/(FEcomb[2]*1000)) #Energy cost for the integrated electrolyzer\n",
    "Qcomb_worst = Qarcomb + Qec_worst #Total energy cost\n",
    "\n",
    "Qec_optimal = rc*(np.dot(Ecomb[1], z*F)/(FEcomb[1]*1000)) #Energy cost for the integrated electrolyzer\n",
    "Qcomb_optimal = Qarcomb + Qec_optimal #Total energy cost\n"
   ]
  },
  {
   "cell_type": "code",
   "execution_count": 14,
   "id": "c6a83fd8",
   "metadata": {},
   "outputs": [
    {
     "data": {
      "text/plain": [
       "(500.0, 2000.0)"
      ]
     },
     "execution_count": 14,
     "metadata": {},
     "output_type": "execute_result"
    },
    {
     "data": {
      "image/png": "[encoded data removed]",
      "text/plain": [
       "<Figure size 167.76x167.76 with 1 Axes>"
      ]
     },
     "metadata": {
      "needs_background": "light"
     },
     "output_type": "display_data"
    }
   ],
   "source": [
    "plt.rcParams['font.family']='Arial'\n",
    "plt.rcParams['font.size']=8\n",
    "\n",
    "fig=plt.gcf()\n",
    "fig.set_size_inches((2.33, 2.33))\n",
    "\n",
    "plt.fill_between(X, 0, Qsep, facecolor='#cce1fc')\n",
    "plt.fill_between(X, Qsep, 3000, facecolor='#ebd4cc')\n",
    "\n",
    "plt.plot(X,np.ones(len(X))*Qsep, '--', color='gray')\n",
    "\n",
    "plt.plot(X, Qcomb, color='darkcyan', lw=1)\n",
    "plt.plot(X, Qcomb_worst, color='grey', lw=1)\n",
    "plt.plot(X, Qcomb_optimal, color='maroon', lw=1)\n",
    "\n",
    "plt.xlabel('CO$_2$ loading in the integrated electrolyzer \\n effluent (mol CO$_2$/mol amine)')\n",
    "plt.ylabel('Integrated route energy requirement \\n (kJ/mol CO$_2$ converted)')\n",
    "plt.tick_params(direction='in')\n",
    "plt.xlim(0.3,0.5)\n",
    "plt.ylim(500, 2000)\n",
    "#plt.yticks(np.arange(1050,1401,50))\n",
    "\n",
    "#fig.savefig('Figure/X impact integrated energy.png', bbox_inches='tight', pad_inches=0, dpi=1200)"
   ]
  },
  {
   "cell_type": "markdown",
   "id": "52ae30cd",
   "metadata": {},
   "source": [
    "# Fig. S6"
   ]
  },
  {
   "cell_type": "markdown",
   "id": "245794ce",
   "metadata": {},
   "source": [
    "Fig. S6c: Energy to regenerate amines"
   ]
  },
  {
   "cell_type": "code",
   "execution_count": 15,
   "id": "6a2418d1",
   "metadata": {},
   "outputs": [],
   "source": [
    "Qar=np.arange(88, 204,1) #kJ/mol 203 Amine-based Post-Combustion CO2 Capture\n",
    "X=0.3 #fully regenerate the amine solutions\n",
    "x=0.5 #conversion rate of the electrolyzer\n",
    "\n",
    "Ecomb = [4,3,5]\n",
    "FEcomb = [0.7,0.9,0.4]\n",
    "\n",
    "r=np.divide((X-Xout),(Xin-Xout)) #Molar ratio of the unreacted CO2 for the separation&electrolysis process\n",
    "rc = np.divide((Xin-X),(Xin-Xout)) #Molar ratio of the CO2 used for the integrated electrolysis\n",
    "\n",
    "Qec = rc*(np.dot(Ecomb[0], z*F)/(FEcomb[0]*1000))\n",
    "Qsep=Qar+ Qcompression + Qpsa*2*(1/x-1)+Qcr+E*z*F/FE/1000\n",
    "Qarcomb=Qsep*r\n",
    "Qcomb=Qarcomb + Qec\n",
    "\n",
    "Qec_worst = rc*(np.dot(Ecomb[2], z*F)/(FEcomb[2]*1000))\n",
    "Qcomb_worst = Qarcomb + Qec_worst\n",
    "\n",
    "Qec_optimal = rc*(np.dot(Ecomb[1], z*F)/(FEcomb[1]*1000))\n",
    "Qcomb_optimal = Qarcomb + Qec_optimal\n",
    "\n"
   ]
  },
  {
   "cell_type": "code",
   "execution_count": 16,
   "id": "9cadfef1",
   "metadata": {},
   "outputs": [
    {
     "data": {
      "image/png": "[encoded data removed]",
      "text/plain": [
       "<Figure size 167.76x167.76 with 1 Axes>"
      ]
     },
     "metadata": {
      "needs_background": "light"
     },
     "output_type": "display_data"
    }
   ],
   "source": [
    "plt.rcParams['font.family']='Arial'\n",
    "plt.rcParams['font.size']=8\n",
    "\n",
    "fig=plt.gcf()\n",
    "fig.set_size_inches((2.33, 2.33))\n",
    "\n",
    "plt.fill_between(Qar, 0, Qsep, facecolor='#cce1fc')\n",
    "plt.fill_between(Qar, Qsep, 3000, facecolor='#ebd4cc')\n",
    "\n",
    "plt.plot(Qar,np.ones(len(Qar))*Qsep, '--', color='gray')\n",
    "\n",
    "plt.plot(Qar, Qcomb, color='darkcyan', lw=1)\n",
    "plt.plot(Qar, Qcomb_worst, color='grey', lw=1)\n",
    "plt.plot(Qar, Qcomb_optimal, color='maroon', lw=1)\n",
    "\n",
    "plt.xlabel('Energy to regenerate amine (kJ/mol CO$_2$)')\n",
    "plt.ylabel('Integrated route energy requirement\\n(kJ/mol CO$_2$ converted)')\n",
    "plt.tick_params(direction='in')\n",
    "plt.xlim(88,203)\n",
    "plt.ylim(0,2500)\n",
    "#plt.yticks(np.arange(1000,1251,50))\n",
    "fig.savefig('Figure/Qar impact integrated.png', bbox_inches='tight', pad_inches=0, dpi=1200)"
   ]
  },
  {
   "cell_type": "markdown",
   "id": "7c8c6758",
   "metadata": {},
   "source": [
    "Fig. S6b: Energy to regenerate bi-carbonates"
   ]
  },
  {
   "cell_type": "code",
   "execution_count": 37,
   "id": "192f08cf",
   "metadata": {},
   "outputs": [
    {
     "data": {
      "application/javascript": [
       "\n",
       "        if (window._pyforest_update_imports_cell) { window._pyforest_update_imports_cell('import matplotlib.pyplot as plt\\nimport numpy as np'); }\n",
       "    "
      ],
      "text/plain": [
       "<IPython.core.display.Javascript object>"
      ]
     },
     "metadata": {},
     "output_type": "display_data"
    },
    {
     "data": {
      "application/javascript": [
       "\n",
       "        if (window._pyforest_update_imports_cell) { window._pyforest_update_imports_cell('import matplotlib.pyplot as plt\\nimport numpy as np'); }\n",
       "    "
      ],
      "text/plain": [
       "<IPython.core.display.Javascript object>"
      ]
     },
     "metadata": {},
     "output_type": "display_data"
    },
    {
     "data": {
      "application/javascript": [
       "\n",
       "        if (window._pyforest_update_imports_cell) { window._pyforest_update_imports_cell('import matplotlib.pyplot as plt\\nimport numpy as np'); }\n",
       "    "
      ],
      "text/plain": [
       "<IPython.core.display.Javascript object>"
      ]
     },
     "metadata": {},
     "output_type": "display_data"
    },
    {
     "data": {
      "application/javascript": [
       "\n",
       "        if (window._pyforest_update_imports_cell) { window._pyforest_update_imports_cell('import matplotlib.pyplot as plt\\nimport numpy as np'); }\n",
       "    "
      ],
      "text/plain": [
       "<IPython.core.display.Javascript object>"
      ]
     },
     "metadata": {},
     "output_type": "display_data"
    },
    {
     "data": {
      "application/javascript": [
       "\n",
       "        if (window._pyforest_update_imports_cell) { window._pyforest_update_imports_cell('import matplotlib.pyplot as plt\\nimport numpy as np'); }\n",
       "    "
      ],
      "text/plain": [
       "<IPython.core.display.Javascript object>"
      ]
     },
     "metadata": {},
     "output_type": "display_data"
    }
   ],
   "source": [
    "Qcr=np.dot(254, np.arange(1, 1.6, 0.1)) #kJ/mol\n",
    "Qar=179 #kJ/mol\n",
    "\n",
    "Ecomb = [4,3,5]\n",
    "FEcomb = [0.7,0.9,0.4]\n",
    "\n",
    "Qec = rc*(np.dot(Ecomb[0], z*F)/(FEcomb[0]*1000))\n",
    "Qsep=Qar+ Qcompression + Qpsa*2*(1/x-1)+Qcr+E*z*F/FE/1000\n",
    "Qarcomb=Qsep*r\n",
    "Qcomb=Qarcomb + Qec\n",
    "\n",
    "Qec_worst = rc*(np.dot(Ecomb[2], z*F)/(FEcomb[2]*1000))\n",
    "Qcomb_worst = Qarcomb + Qec_worst\n",
    "\n",
    "Qec_optimal = rc*(np.dot(Ecomb[1], z*F)/(FEcomb[1]*1000))\n",
    "Qcomb_optimal = Qarcomb + Qec_optimal\n"
   ]
  },
  {
   "cell_type": "code",
   "execution_count": 40,
   "id": "7bbd0048",
   "metadata": {},
   "outputs": [
    {
     "data": {
      "application/javascript": [
       "\n",
       "        if (window._pyforest_update_imports_cell) { window._pyforest_update_imports_cell('import matplotlib.pyplot as plt\\nimport numpy as np'); }\n",
       "    "
      ],
      "text/plain": [
       "<IPython.core.display.Javascript object>"
      ]
     },
     "metadata": {},
     "output_type": "display_data"
    },
    {
     "data": {
      "application/javascript": [
       "\n",
       "        if (window._pyforest_update_imports_cell) { window._pyforest_update_imports_cell('import matplotlib.pyplot as plt\\nimport numpy as np'); }\n",
       "    "
      ],
      "text/plain": [
       "<IPython.core.display.Javascript object>"
      ]
     },
     "metadata": {},
     "output_type": "display_data"
    },
    {
     "data": {
      "application/javascript": [
       "\n",
       "        if (window._pyforest_update_imports_cell) { window._pyforest_update_imports_cell('import matplotlib.pyplot as plt\\nimport numpy as np'); }\n",
       "    "
      ],
      "text/plain": [
       "<IPython.core.display.Javascript object>"
      ]
     },
     "metadata": {},
     "output_type": "display_data"
    },
    {
     "data": {
      "application/javascript": [
       "\n",
       "        if (window._pyforest_update_imports_cell) { window._pyforest_update_imports_cell('import matplotlib.pyplot as plt\\nimport numpy as np'); }\n",
       "    "
      ],
      "text/plain": [
       "<IPython.core.display.Javascript object>"
      ]
     },
     "metadata": {},
     "output_type": "display_data"
    },
    {
     "data": {
      "application/javascript": [
       "\n",
       "        if (window._pyforest_update_imports_cell) { window._pyforest_update_imports_cell('import matplotlib.pyplot as plt\\nimport numpy as np'); }\n",
       "    "
      ],
      "text/plain": [
       "<IPython.core.display.Javascript object>"
      ]
     },
     "metadata": {},
     "output_type": "display_data"
    },
    {
     "data": {
      "application/javascript": [
       "\n",
       "        if (window._pyforest_update_imports_cell) { window._pyforest_update_imports_cell('import matplotlib.pyplot as plt\\nimport numpy as np'); }\n",
       "    "
      ],
      "text/plain": [
       "<IPython.core.display.Javascript object>"
      ]
     },
     "metadata": {},
     "output_type": "display_data"
    },
    {
     "data": {
      "application/javascript": [
       "\n",
       "        if (window._pyforest_update_imports_cell) { window._pyforest_update_imports_cell('import matplotlib.pyplot as plt\\nimport numpy as np'); }\n",
       "    "
      ],
      "text/plain": [
       "<IPython.core.display.Javascript object>"
      ]
     },
     "metadata": {},
     "output_type": "display_data"
    },
    {
     "data": {
      "application/javascript": [
       "\n",
       "        if (window._pyforest_update_imports_cell) { window._pyforest_update_imports_cell('import matplotlib.pyplot as plt\\nimport numpy as np'); }\n",
       "    "
      ],
      "text/plain": [
       "<IPython.core.display.Javascript object>"
      ]
     },
     "metadata": {},
     "output_type": "display_data"
    },
    {
     "data": {
      "application/javascript": [
       "\n",
       "        if (window._pyforest_update_imports_cell) { window._pyforest_update_imports_cell('import matplotlib.pyplot as plt\\nimport numpy as np'); }\n",
       "    "
      ],
      "text/plain": [
       "<IPython.core.display.Javascript object>"
      ]
     },
     "metadata": {},
     "output_type": "display_data"
    },
    {
     "data": {
      "application/javascript": [
       "\n",
       "        if (window._pyforest_update_imports_cell) { window._pyforest_update_imports_cell('import matplotlib.pyplot as plt\\nimport numpy as np'); }\n",
       "    "
      ],
      "text/plain": [
       "<IPython.core.display.Javascript object>"
      ]
     },
     "metadata": {},
     "output_type": "display_data"
    },
    {
     "data": {
      "application/javascript": [
       "\n",
       "        if (window._pyforest_update_imports_cell) { window._pyforest_update_imports_cell('import matplotlib.pyplot as plt\\nimport numpy as np'); }\n",
       "    "
      ],
      "text/plain": [
       "<IPython.core.display.Javascript object>"
      ]
     },
     "metadata": {},
     "output_type": "display_data"
    },
    {
     "data": {
      "application/javascript": [
       "\n",
       "        if (window._pyforest_update_imports_cell) { window._pyforest_update_imports_cell('import matplotlib.pyplot as plt\\nimport numpy as np'); }\n",
       "    "
      ],
      "text/plain": [
       "<IPython.core.display.Javascript object>"
      ]
     },
     "metadata": {},
     "output_type": "display_data"
    },
    {
     "data": {
      "application/javascript": [
       "\n",
       "        if (window._pyforest_update_imports_cell) { window._pyforest_update_imports_cell('import matplotlib.pyplot as plt\\nimport numpy as np'); }\n",
       "    "
      ],
      "text/plain": [
       "<IPython.core.display.Javascript object>"
      ]
     },
     "metadata": {},
     "output_type": "display_data"
    },
    {
     "data": {
      "application/javascript": [
       "\n",
       "        if (window._pyforest_update_imports_cell) { window._pyforest_update_imports_cell('import matplotlib.pyplot as plt\\nimport numpy as np'); }\n",
       "    "
      ],
      "text/plain": [
       "<IPython.core.display.Javascript object>"
      ]
     },
     "metadata": {},
     "output_type": "display_data"
    },
    {
     "data": {
      "application/javascript": [
       "\n",
       "        if (window._pyforest_update_imports_cell) { window._pyforest_update_imports_cell('import matplotlib.pyplot as plt\\nimport numpy as np'); }\n",
       "    "
      ],
      "text/plain": [
       "<IPython.core.display.Javascript object>"
      ]
     },
     "metadata": {},
     "output_type": "display_data"
    },
    {
     "data": {
      "application/javascript": [
       "\n",
       "        if (window._pyforest_update_imports_cell) { window._pyforest_update_imports_cell('import matplotlib.pyplot as plt\\nimport numpy as np'); }\n",
       "    "
      ],
      "text/plain": [
       "<IPython.core.display.Javascript object>"
      ]
     },
     "metadata": {},
     "output_type": "display_data"
    },
    {
     "data": {
      "application/javascript": [
       "\n",
       "        if (window._pyforest_update_imports_cell) { window._pyforest_update_imports_cell('import matplotlib.pyplot as plt\\nimport numpy as np'); }\n",
       "    "
      ],
      "text/plain": [
       "<IPython.core.display.Javascript object>"
      ]
     },
     "metadata": {},
     "output_type": "display_data"
    },
    {
     "data": {
      "image/png": "[encoded data removed]",
      "text/plain": [
       "<Figure size 167.76x167.76 with 1 Axes>"
      ]
     },
     "metadata": {
      "needs_background": "light"
     },
     "output_type": "display_data"
    }
   ],
   "source": [
    "plt.rcParams['font.family']='Arial'\n",
    "plt.rcParams['font.size']=8\n",
    "\n",
    "fig=plt.gcf()\n",
    "fig.set_size_inches((2.33, 2.33))\n",
    "\n",
    "plt.fill_between(Qcr, 0, Qsep, facecolor='#cce1fc')\n",
    "plt.fill_between(Qcr, Qsep, 3000, facecolor='#ebd4cc')\n",
    "\n",
    "plt.plot(Qcr,np.ones(len(Qcr))*Qsep, '--', color='gray')\n",
    "\n",
    "plt.plot(Qcr, Qcomb, color='darkcyan', lw=1)\n",
    "plt.plot(Qcr, Qcomb_worst, color='gray', lw=1)\n",
    "plt.plot(Qcr, Qcomb_optimal, color='maroon', lw=1)\n",
    "\n",
    "plt.xlabel('Energy for carbonate regeneration \\n (kJ mol$^{-1}_{CO_2}$)')\n",
    "plt.ylabel('Integrated route energy requirement \\n(kJ/mol CO$_2$ converted)')\n",
    "plt.tick_params(direction='in')\n",
    "\n",
    "\n",
    "plt.xlim(254,406)\n",
    "plt.ylim(0, 2500)\n",
    "plt.xticks(np.arange(254, 410, 50))\n",
    "fig.savefig('Figure/Qcr impact integrated energy.png', bbox_inches='tight', pad_inches=0, dpi=1200)"
   ]
  },
  {
   "cell_type": "markdown",
   "id": "51a444e0",
   "metadata": {},
   "source": [
    "Fig. S6a: Single pass conversion of the gas-fed electrolyser"
   ]
  },
  {
   "cell_type": "code",
   "execution_count": 41,
   "id": "f713c05c",
   "metadata": {},
   "outputs": [
    {
     "data": {
      "application/javascript": [
       "\n",
       "        if (window._pyforest_update_imports_cell) { window._pyforest_update_imports_cell('import matplotlib.pyplot as plt\\nimport numpy as np'); }\n",
       "    "
      ],
      "text/plain": [
       "<IPython.core.display.Javascript object>"
      ]
     },
     "metadata": {},
     "output_type": "display_data"
    }
   ],
   "source": [
    "Qcr=254 #kJ/mol\n",
    "Qpsa=(14.5 + 36.4)/2 # Pressure swing absorption kJ/molCO2, the energy is in between 14.5-36.4 kJ/molCO2.\n",
    "x=np.arange(0.1,0.91, 0.01) #Single-pass conversion\n",
    "Ecomb = [4,3,5]\n",
    "FEcomb = [0.7,0.9,0.4]\n",
    "\n",
    "#Energy calculation\n",
    "Qsep=Qar+ Qcompression + Qcr+Qpsa*2*(1/x-1)+E*z*F/FE/1000\n",
    "Qarcomb=Qsep*r\n",
    "Qcomb=Qarcomb + rc*Ecomb[0]*z*F/FEcomb[0]/1000\n",
    "Qcomb_worst = Qarcomb + rc*Ecomb[2]*z*F/FEcomb[2]/1000\n",
    "Qcomb_optimal = Qarcomb + rc*Ecomb[1]*z*F/FEcomb[1]/1000\n",
    "\n",
    "gain = Qsep - Qcomb"
   ]
  },
  {
   "cell_type": "code",
   "execution_count": 43,
   "id": "2e2a186d",
   "metadata": {},
   "outputs": [
    {
     "data": {
      "application/javascript": [
       "\n",
       "        if (window._pyforest_update_imports_cell) { window._pyforest_update_imports_cell('import matplotlib.pyplot as plt\\nimport numpy as np'); }\n",
       "    "
      ],
      "text/plain": [
       "<IPython.core.display.Javascript object>"
      ]
     },
     "metadata": {},
     "output_type": "display_data"
    },
    {
     "data": {
      "application/javascript": [
       "\n",
       "        if (window._pyforest_update_imports_cell) { window._pyforest_update_imports_cell('import matplotlib.pyplot as plt\\nimport numpy as np'); }\n",
       "    "
      ],
      "text/plain": [
       "<IPython.core.display.Javascript object>"
      ]
     },
     "metadata": {},
     "output_type": "display_data"
    },
    {
     "data": {
      "application/javascript": [
       "\n",
       "        if (window._pyforest_update_imports_cell) { window._pyforest_update_imports_cell('import matplotlib.pyplot as plt\\nimport numpy as np'); }\n",
       "    "
      ],
      "text/plain": [
       "<IPython.core.display.Javascript object>"
      ]
     },
     "metadata": {},
     "output_type": "display_data"
    },
    {
     "data": {
      "application/javascript": [
       "\n",
       "        if (window._pyforest_update_imports_cell) { window._pyforest_update_imports_cell('import matplotlib.pyplot as plt\\nimport numpy as np'); }\n",
       "    "
      ],
      "text/plain": [
       "<IPython.core.display.Javascript object>"
      ]
     },
     "metadata": {},
     "output_type": "display_data"
    },
    {
     "data": {
      "application/javascript": [
       "\n",
       "        if (window._pyforest_update_imports_cell) { window._pyforest_update_imports_cell('import matplotlib.pyplot as plt\\nimport numpy as np'); }\n",
       "    "
      ],
      "text/plain": [
       "<IPython.core.display.Javascript object>"
      ]
     },
     "metadata": {},
     "output_type": "display_data"
    },
    {
     "data": {
      "application/javascript": [
       "\n",
       "        if (window._pyforest_update_imports_cell) { window._pyforest_update_imports_cell('import matplotlib.pyplot as plt\\nimport numpy as np'); }\n",
       "    "
      ],
      "text/plain": [
       "<IPython.core.display.Javascript object>"
      ]
     },
     "metadata": {},
     "output_type": "display_data"
    },
    {
     "data": {
      "application/javascript": [
       "\n",
       "        if (window._pyforest_update_imports_cell) { window._pyforest_update_imports_cell('import matplotlib.pyplot as plt\\nimport numpy as np'); }\n",
       "    "
      ],
      "text/plain": [
       "<IPython.core.display.Javascript object>"
      ]
     },
     "metadata": {},
     "output_type": "display_data"
    },
    {
     "data": {
      "application/javascript": [
       "\n",
       "        if (window._pyforest_update_imports_cell) { window._pyforest_update_imports_cell('import matplotlib.pyplot as plt\\nimport numpy as np'); }\n",
       "    "
      ],
      "text/plain": [
       "<IPython.core.display.Javascript object>"
      ]
     },
     "metadata": {},
     "output_type": "display_data"
    },
    {
     "data": {
      "application/javascript": [
       "\n",
       "        if (window._pyforest_update_imports_cell) { window._pyforest_update_imports_cell('import matplotlib.pyplot as plt\\nimport numpy as np'); }\n",
       "    "
      ],
      "text/plain": [
       "<IPython.core.display.Javascript object>"
      ]
     },
     "metadata": {},
     "output_type": "display_data"
    },
    {
     "data": {
      "application/javascript": [
       "\n",
       "        if (window._pyforest_update_imports_cell) { window._pyforest_update_imports_cell('import matplotlib.pyplot as plt\\nimport numpy as np'); }\n",
       "    "
      ],
      "text/plain": [
       "<IPython.core.display.Javascript object>"
      ]
     },
     "metadata": {},
     "output_type": "display_data"
    },
    {
     "data": {
      "application/javascript": [
       "\n",
       "        if (window._pyforest_update_imports_cell) { window._pyforest_update_imports_cell('import matplotlib.pyplot as plt\\nimport numpy as np'); }\n",
       "    "
      ],
      "text/plain": [
       "<IPython.core.display.Javascript object>"
      ]
     },
     "metadata": {},
     "output_type": "display_data"
    },
    {
     "data": {
      "application/javascript": [
       "\n",
       "        if (window._pyforest_update_imports_cell) { window._pyforest_update_imports_cell('import matplotlib.pyplot as plt\\nimport numpy as np'); }\n",
       "    "
      ],
      "text/plain": [
       "<IPython.core.display.Javascript object>"
      ]
     },
     "metadata": {},
     "output_type": "display_data"
    },
    {
     "data": {
      "application/javascript": [
       "\n",
       "        if (window._pyforest_update_imports_cell) { window._pyforest_update_imports_cell('import matplotlib.pyplot as plt\\nimport numpy as np'); }\n",
       "    "
      ],
      "text/plain": [
       "<IPython.core.display.Javascript object>"
      ]
     },
     "metadata": {},
     "output_type": "display_data"
    },
    {
     "data": {
      "application/javascript": [
       "\n",
       "        if (window._pyforest_update_imports_cell) { window._pyforest_update_imports_cell('import matplotlib.pyplot as plt\\nimport numpy as np'); }\n",
       "    "
      ],
      "text/plain": [
       "<IPython.core.display.Javascript object>"
      ]
     },
     "metadata": {},
     "output_type": "display_data"
    },
    {
     "data": {
      "application/javascript": [
       "\n",
       "        if (window._pyforest_update_imports_cell) { window._pyforest_update_imports_cell('import matplotlib.pyplot as plt\\nimport numpy as np'); }\n",
       "    "
      ],
      "text/plain": [
       "<IPython.core.display.Javascript object>"
      ]
     },
     "metadata": {},
     "output_type": "display_data"
    },
    {
     "data": {
      "application/javascript": [
       "\n",
       "        if (window._pyforest_update_imports_cell) { window._pyforest_update_imports_cell('import matplotlib.pyplot as plt\\nimport numpy as np'); }\n",
       "    "
      ],
      "text/plain": [
       "<IPython.core.display.Javascript object>"
      ]
     },
     "metadata": {},
     "output_type": "display_data"
    },
    {
     "data": {
      "application/javascript": [
       "\n",
       "        if (window._pyforest_update_imports_cell) { window._pyforest_update_imports_cell('import matplotlib.pyplot as plt\\nimport numpy as np'); }\n",
       "    "
      ],
      "text/plain": [
       "<IPython.core.display.Javascript object>"
      ]
     },
     "metadata": {},
     "output_type": "display_data"
    },
    {
     "data": {
      "application/javascript": [
       "\n",
       "        if (window._pyforest_update_imports_cell) { window._pyforest_update_imports_cell('import matplotlib.pyplot as plt\\nimport numpy as np'); }\n",
       "    "
      ],
      "text/plain": [
       "<IPython.core.display.Javascript object>"
      ]
     },
     "metadata": {},
     "output_type": "display_data"
    },
    {
     "name": "stdout",
     "output_type": "stream",
     "text": [
      "0.8399999999999996\n",
      "-0.2571428571427532\n"
     ]
    },
    {
     "data": {
      "image/png": "[encoded data removed]",
      "text/plain": [
       "<Figure size 167.76x167.76 with 1 Axes>"
      ]
     },
     "metadata": {
      "needs_background": "light"
     },
     "output_type": "display_data"
    }
   ],
   "source": [
    "plt.rcParams['font.family']='Arial'\n",
    "plt.rcParams['font.size']=8\n",
    "\n",
    "fig=plt.gcf()\n",
    "fig.set_size_inches((2.33, 2.33))\n",
    "\n",
    "plt.fill_between(x*100, 0, Qsep, facecolor='#cce1fc')\n",
    "plt.fill_between(x*100, Qsep, 3000, facecolor='#ebd4cc')\n",
    "\n",
    "plt.plot(x*100,np.ones(len(x))*Qsep, '--', color='gray')\n",
    "\n",
    "plt.plot(x*100, Qcomb, color='darkcyan', lw=1)\n",
    "plt.plot(x*100, Qcomb_worst, color='gray', lw=1)\n",
    "plt.plot(x*100, Qcomb_optimal, color='maroon', lw=1)\n",
    "\n",
    "plt.xlabel('Single-pass conversion for \\ngas-fed CO $_2$ electrolysis (%)')\n",
    "plt.ylabel('Integrated route energy requirement \\n(kJ/mol CO$_2$ converted)')\n",
    "plt.tick_params(direction='in')\n",
    "\n",
    "\n",
    "plt.xlim(10,90)\n",
    "plt.ylim(0, 2500)\n",
    "plt.xticks(np.arange(10, 91, 20))\n",
    "\n",
    "minid=np.argmin(abs(gain))\n",
    "print(x[minid])\n",
    "print(gain[minid])\n",
    "\n",
    "fig.savefig('Figure/single pass conversion on impact integrated energy-1.png', bbox_inches='tight', pad_inches=0, dpi=1200)"
   ]
  },
  {
   "cell_type": "markdown",
   "id": "f2c42ba8",
   "metadata": {},
   "source": [
    "Fig. S6d: PSA product separation energy cost effects"
   ]
  },
  {
   "cell_type": "code",
   "execution_count": 44,
   "id": "5d6d342c",
   "metadata": {},
   "outputs": [
    {
     "data": {
      "application/javascript": [
       "\n",
       "        if (window._pyforest_update_imports_cell) { window._pyforest_update_imports_cell('import matplotlib.pyplot as plt\\nimport numpy as np'); }\n",
       "    "
      ],
      "text/plain": [
       "<IPython.core.display.Javascript object>"
      ]
     },
     "metadata": {},
     "output_type": "display_data"
    }
   ],
   "source": [
    "Qpsa=np.arange(14.5, 36.5, 0.1) # Pressure swing absorption kJ/molCO2, the energy is in between 14.5-36.4 kJ/molCO2.\n",
    "x=0.5\n",
    "FE=0.9  #assuming normal electrolysis FE CO remain 90% up to 100 mA cm-2\n",
    "E=3 #V, overall cell voltage, cathode potential is -0.6 vs RHE\n",
    "\n",
    "#Calculate energy cost\n",
    "Qsep=Qar+Qcompression + Qcr+Qpsa*2*(1/x-1)+E*z*F/FE/1000 #Sequential route\n",
    "    \n",
    "Qarcomb=Qsep*r\n",
    "Qcomb=Qarcomb + rc*Ecomb[0]*z*F/FEcomb[0]/1000\n",
    "Qcomb_worst = Qarcomb + rc*Ecomb[2]*z*F/FEcomb[2]/1000\n",
    "Qcomb_optimal = Qarcomb + rc*Ecomb[1]*z*F/FEcomb[1]/1000\n",
    "\n",
    "#gain\n",
    "gain=Qsep-Qcomb"
   ]
  },
  {
   "cell_type": "code",
   "execution_count": 45,
   "id": "f9b3834f",
   "metadata": {},
   "outputs": [
    {
     "data": {
      "application/javascript": [
       "\n",
       "        if (window._pyforest_update_imports_cell) { window._pyforest_update_imports_cell('import matplotlib.pyplot as plt\\nimport numpy as np'); }\n",
       "    "
      ],
      "text/plain": [
       "<IPython.core.display.Javascript object>"
      ]
     },
     "metadata": {},
     "output_type": "display_data"
    },
    {
     "data": {
      "application/javascript": [
       "\n",
       "        if (window._pyforest_update_imports_cell) { window._pyforest_update_imports_cell('import matplotlib.pyplot as plt\\nimport numpy as np'); }\n",
       "    "
      ],
      "text/plain": [
       "<IPython.core.display.Javascript object>"
      ]
     },
     "metadata": {},
     "output_type": "display_data"
    },
    {
     "data": {
      "application/javascript": [
       "\n",
       "        if (window._pyforest_update_imports_cell) { window._pyforest_update_imports_cell('import matplotlib.pyplot as plt\\nimport numpy as np'); }\n",
       "    "
      ],
      "text/plain": [
       "<IPython.core.display.Javascript object>"
      ]
     },
     "metadata": {},
     "output_type": "display_data"
    },
    {
     "data": {
      "application/javascript": [
       "\n",
       "        if (window._pyforest_update_imports_cell) { window._pyforest_update_imports_cell('import matplotlib.pyplot as plt\\nimport numpy as np'); }\n",
       "    "
      ],
      "text/plain": [
       "<IPython.core.display.Javascript object>"
      ]
     },
     "metadata": {},
     "output_type": "display_data"
    },
    {
     "data": {
      "application/javascript": [
       "\n",
       "        if (window._pyforest_update_imports_cell) { window._pyforest_update_imports_cell('import matplotlib.pyplot as plt\\nimport numpy as np'); }\n",
       "    "
      ],
      "text/plain": [
       "<IPython.core.display.Javascript object>"
      ]
     },
     "metadata": {},
     "output_type": "display_data"
    },
    {
     "data": {
      "application/javascript": [
       "\n",
       "        if (window._pyforest_update_imports_cell) { window._pyforest_update_imports_cell('import matplotlib.pyplot as plt\\nimport numpy as np'); }\n",
       "    "
      ],
      "text/plain": [
       "<IPython.core.display.Javascript object>"
      ]
     },
     "metadata": {},
     "output_type": "display_data"
    },
    {
     "data": {
      "application/javascript": [
       "\n",
       "        if (window._pyforest_update_imports_cell) { window._pyforest_update_imports_cell('import matplotlib.pyplot as plt\\nimport numpy as np'); }\n",
       "    "
      ],
      "text/plain": [
       "<IPython.core.display.Javascript object>"
      ]
     },
     "metadata": {},
     "output_type": "display_data"
    },
    {
     "data": {
      "application/javascript": [
       "\n",
       "        if (window._pyforest_update_imports_cell) { window._pyforest_update_imports_cell('import matplotlib.pyplot as plt\\nimport numpy as np'); }\n",
       "    "
      ],
      "text/plain": [
       "<IPython.core.display.Javascript object>"
      ]
     },
     "metadata": {},
     "output_type": "display_data"
    },
    {
     "data": {
      "application/javascript": [
       "\n",
       "        if (window._pyforest_update_imports_cell) { window._pyforest_update_imports_cell('import matplotlib.pyplot as plt\\nimport numpy as np'); }\n",
       "    "
      ],
      "text/plain": [
       "<IPython.core.display.Javascript object>"
      ]
     },
     "metadata": {},
     "output_type": "display_data"
    },
    {
     "data": {
      "application/javascript": [
       "\n",
       "        if (window._pyforest_update_imports_cell) { window._pyforest_update_imports_cell('import matplotlib.pyplot as plt\\nimport numpy as np'); }\n",
       "    "
      ],
      "text/plain": [
       "<IPython.core.display.Javascript object>"
      ]
     },
     "metadata": {},
     "output_type": "display_data"
    },
    {
     "data": {
      "application/javascript": [
       "\n",
       "        if (window._pyforest_update_imports_cell) { window._pyforest_update_imports_cell('import matplotlib.pyplot as plt\\nimport numpy as np'); }\n",
       "    "
      ],
      "text/plain": [
       "<IPython.core.display.Javascript object>"
      ]
     },
     "metadata": {},
     "output_type": "display_data"
    },
    {
     "data": {
      "application/javascript": [
       "\n",
       "        if (window._pyforest_update_imports_cell) { window._pyforest_update_imports_cell('import matplotlib.pyplot as plt\\nimport numpy as np'); }\n",
       "    "
      ],
      "text/plain": [
       "<IPython.core.display.Javascript object>"
      ]
     },
     "metadata": {},
     "output_type": "display_data"
    },
    {
     "data": {
      "application/javascript": [
       "\n",
       "        if (window._pyforest_update_imports_cell) { window._pyforest_update_imports_cell('import matplotlib.pyplot as plt\\nimport numpy as np'); }\n",
       "    "
      ],
      "text/plain": [
       "<IPython.core.display.Javascript object>"
      ]
     },
     "metadata": {},
     "output_type": "display_data"
    },
    {
     "data": {
      "application/javascript": [
       "\n",
       "        if (window._pyforest_update_imports_cell) { window._pyforest_update_imports_cell('import matplotlib.pyplot as plt\\nimport numpy as np'); }\n",
       "    "
      ],
      "text/plain": [
       "<IPython.core.display.Javascript object>"
      ]
     },
     "metadata": {},
     "output_type": "display_data"
    },
    {
     "data": {
      "application/javascript": [
       "\n",
       "        if (window._pyforest_update_imports_cell) { window._pyforest_update_imports_cell('import matplotlib.pyplot as plt\\nimport numpy as np'); }\n",
       "    "
      ],
      "text/plain": [
       "<IPython.core.display.Javascript object>"
      ]
     },
     "metadata": {},
     "output_type": "display_data"
    },
    {
     "data": {
      "image/png": "[encoded data removed]",
      "text/plain": [
       "<Figure size 167.76x167.76 with 1 Axes>"
      ]
     },
     "metadata": {
      "needs_background": "light"
     },
     "output_type": "display_data"
    }
   ],
   "source": [
    "plt.rcParams['font.family']='Arial'\n",
    "plt.rcParams['font.size']=8\n",
    "\n",
    "fig=plt.gcf()\n",
    "fig.set_size_inches((2.33, 2.33))\n",
    "\n",
    "##cce1fc, \n",
    "plt.fill_between(Qpsa, 0, Qsep, facecolor='#cce1fc')\n",
    "plt.fill_between(Qpsa, Qsep, 3000, facecolor='#ebd4cc')\n",
    "\n",
    "plt.plot(Qpsa,np.ones(len(Qpsa))*Qsep, '--', color='gray')\n",
    "\n",
    "plt.plot(Qpsa, Qcomb, color='darkcyan', lw=1)\n",
    "plt.plot(Qpsa, Qcomb_worst, color='gray', lw=1)\n",
    "plt.plot(Qpsa, Qcomb_optimal, color='maroon', lw=1)\n",
    "\n",
    "plt.xlabel('Energy for pressure swing absorption \\n(kJ/mol CO$_2$ converted)')\n",
    "plt.ylabel('Integrated route energy requirement \\n(kJ/mol CO$_2$ converted)')\n",
    "plt.tick_params(direction='in')\n",
    "\n",
    "\n",
    "plt.xlim(14.5,36.5)\n",
    "plt.ylim(0, 2500)\n",
    "\n",
    "fig.savefig('Figure/PSA separation integrated energy-1.png', bbox_inches='tight', pad_inches=0, dpi=1200)"
   ]
  }
 ],
 "metadata": {
  "kernelspec": {
   "display_name": "Python 3 (ipykernel)",
   "language": "python",
   "name": "python3"
  },
  "language_info": {
   "codemirror_mode": {
    "name": "ipython",
    "version": 3
   },
   "file_extension": ".py",
   "mimetype": "text/x-python",
   "name": "python",
   "nbconvert_exporter": "python",
   "pygments_lexer": "ipython3",
   "version": "3.9.7"
  }
 },
 "nbformat": 4,
 "nbformat_minor": 5
}
